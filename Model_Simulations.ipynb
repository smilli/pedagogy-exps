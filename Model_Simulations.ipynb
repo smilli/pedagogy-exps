{
 "cells": [
  {
   "cell_type": "markdown",
   "metadata": {},
   "source": [
    "# Teaching with and Learning from Demonstration model\n",
    "This notebook generates simulation data for four models: the doing demonstrator, showing model, naive observer, and sophisticated observer. Visualizations of these simulations are in the Visualization notebook."
   ]
  },
  {
   "cell_type": "code",
   "execution_count": 1,
   "metadata": {},
   "outputs": [
    {
     "data": {
      "text/plain": [
       "{'divide': 'raise', 'invalid': 'raise', 'over': 'raise', 'under': 'raise'}"
      ]
     },
     "execution_count": 1,
     "metadata": {},
     "output_type": "execute_result"
    }
   ],
   "source": [
    "import copy\n",
    "from itertools import product\n",
    "import time\n",
    "import pickle\n",
    "\n",
    "import matplotlib.pyplot as plt\n",
    "import numpy as np\n",
    "import pandas as pd\n",
    "import seaborn as sns\n",
    "\n",
    "from mdp_lib.domains.gridworld import GridWorld\n",
    "from planninginbeliefmodel import PlanningInObserverBeliefModel\n",
    "from mdp_lib.domains.gridworldvis import visualize_trajectory, plot_text\n",
    "from task import mdp_codes, mdp_params\n",
    "from mdp_lib.util import sample_prob_dict\n",
    "from util import mdp_to_feature_belief\n",
    "\n",
    "np.random.seed(128374027)\n",
    "np.seterr(under='ignore')"
   ]
  },
  {
   "cell_type": "code",
   "execution_count": 5,
   "metadata": {},
   "outputs": [
    {
     "name": "stdout",
     "output_type": "stream",
     "text": [
      "[{'wait_action': False, 'gridworld_array': ['.oooo.', '.oppp.', '.opccy', '.oppc.', '.cccc.'], 'init_state': (0, 2), 'step_cost': 0, 'discount_rate': 0.99, 'feature_rewards': {'y': 50, 'p': 0, 'c': 0, 'o': 0, '.': 0}, 'absorbing_states': [(5, 2)], 'wall_action': False}, {'wait_action': False, 'gridworld_array': ['.oooo.', '.oppp.', '.opccy', '.oppc.', '.cccc.'], 'init_state': (0, 2), 'step_cost': 0, 'discount_rate': 0.99, 'feature_rewards': {'y': 50, 'p': 0, 'c': -10, 'o': 0, '.': 0}, 'absorbing_states': [(5, 2)], 'wall_action': False}, {'wait_action': False, 'gridworld_array': ['.oooo.', '.oppp.', '.opccy', '.oppc.', '.cccc.'], 'init_state': (0, 2), 'step_cost': 0, 'discount_rate': 0.99, 'feature_rewards': {'y': 50, 'p': -10, 'c': 0, 'o': 0, '.': 0}, 'absorbing_states': [(5, 2)], 'wall_action': False}, {'wait_action': False, 'gridworld_array': ['.oooo.', '.oppp.', '.opccy', '.oppc.', '.cccc.'], 'init_state': (0, 2), 'step_cost': 0, 'discount_rate': 0.99, 'feature_rewards': {'y': 50, 'p': -10, 'c': -10, 'o': 0, '.': 0}, 'absorbing_states': [(5, 2)], 'wall_action': False}, {'wait_action': False, 'gridworld_array': ['.oooo.', '.oppp.', '.opccy', '.oppc.', '.cccc.'], 'init_state': (0, 2), 'step_cost': 0, 'discount_rate': 0.99, 'feature_rewards': {'y': 50, 'p': 0, 'c': 0, 'o': -10, '.': 0}, 'absorbing_states': [(5, 2)], 'wall_action': False}, {'wait_action': False, 'gridworld_array': ['.oooo.', '.oppp.', '.opccy', '.oppc.', '.cccc.'], 'init_state': (0, 2), 'step_cost': 0, 'discount_rate': 0.99, 'feature_rewards': {'y': 50, 'p': 0, 'c': -10, 'o': -10, '.': 0}, 'absorbing_states': [(5, 2)], 'wall_action': False}, {'wait_action': False, 'gridworld_array': ['.oooo.', '.oppp.', '.opccy', '.oppc.', '.cccc.'], 'init_state': (0, 2), 'step_cost': 0, 'discount_rate': 0.99, 'feature_rewards': {'y': 50, 'p': -10, 'c': 0, 'o': -10, '.': 0}, 'absorbing_states': [(5, 2)], 'wall_action': False}, {'wait_action': False, 'gridworld_array': ['.oooo.', '.oppp.', '.opccy', '.oppc.', '.cccc.'], 'init_state': (0, 2), 'step_cost': 0, 'discount_rate': 0.99, 'feature_rewards': {'y': 50, 'p': -10, 'c': -10, 'o': -10, '.': 0}, 'absorbing_states': [(5, 2)], 'wall_action': False}]\n"
     ]
    }
   ],
   "source": [
    "print(mdp_params)"
   ]
  },
  {
   "cell_type": "markdown",
   "metadata": {},
   "source": [
    "# Parameters for doing and showing demonstration models"
   ]
  },
  {
   "cell_type": "code",
   "execution_count": 15,
   "metadata": {},
   "outputs": [],
   "source": [
    "#doing model parameters\n",
    "do_discount = .99\n",
    "do_softmax = .08\n",
    "\n",
    "#showing model parameters\n",
    "base_discount_rate = .99\n",
    "base_softmax_temp = 3\n",
    "obmdp_discount_rate = .9\n",
    "obmdp_softmax_temp= 1"
   ]
  },
  {
   "cell_type": "markdown",
   "metadata": {},
   "source": [
    "# Doing model\n",
    "This code builds doing models for the different MDPs that are defined in `task.py`. It also generates seed trajectories for building a discretized observer belief MDP (OBMDP) transition function. Using trajectories guided by what a doing agent would do helps focus the approximation on parts of the world-belief state space that are relevant."
   ]
  },
  {
   "cell_type": "code",
   "execution_count": 16,
   "metadata": {},
   "outputs": [],
   "source": [
    "doing_models = []\n",
    "seed_trajs = []\n",
    "for p in mdp_params:\n",
    "    p = copy.deepcopy(p)\n",
    "    p['discount_rate'] = do_discount\n",
    "    m = GridWorld(**p)\n",
    "    m.solve()\n",
    "    doing_models.append(m)\n",
    "    \n",
    "    #generate seed trajectories for OBMDP discretization\n",
    "    for _ in xrange(20):\n",
    "        traj = m.run(temp=.7)\n",
    "        if traj[-1][1] != '%':\n",
    "            continue\n",
    "        seed_trajs.append([(w, a) for w, a, _, _ in traj])\n",
    "        \n",
    "with open(\"./cached_values/seed_trajs.pkl\", 'wb') as f:\n",
    "    pickle.dump(seed_trajs, f)"
   ]
  },
  {
   "cell_type": "markdown",
   "metadata": {},
   "source": [
    "# Showing model\n",
    "This block builds showing models for the different possible OBMDPs using the `PlanningInObserverBeliefModel` class defined in `planninginbeliefmodel.py`. It discretizes the belief space using the `seed_trajs` generated in the previous block and solves the resulting (large) discrete MDP.\n",
    "\n",
    "**Estimated running time: 6-8 mins**.\n",
    "\n",
    "*Note that since the ground transition function is the same across all the ground MDPs considered here, the world-belief transitions are also the same. This means we can speed up computations slightly by reusing the transition function, `tf`.*"
   ]
  },
  {
   "cell_type": "code",
   "execution_count": 22,
   "metadata": {
    "scrolled": true
   },
   "outputs": [
    {
     "ename": "KeyboardInterrupt",
     "evalue": "",
     "output_type": "error",
     "traceback": [
      "\u001b[0;31m---------------------------------------------------------------------------\u001b[0m",
      "\u001b[0;31mKeyboardInterrupt\u001b[0m                         Traceback (most recent call last)",
      "\u001b[0;32m<ipython-input-22-7385fd915891>\u001b[0m in \u001b[0;36m<module>\u001b[0;34m()\u001b[0m\n\u001b[1;32m      8\u001b[0m )\n\u001b[1;32m      9\u001b[0m \u001b[0mm\u001b[0m\u001b[0;34m.\u001b[0m\u001b[0mseed_beliefs_with_trajs\u001b[0m\u001b[0;34m(\u001b[0m\u001b[0mseed_trajs\u001b[0m\u001b[0;34m)\u001b[0m\u001b[0;34m\u001b[0m\u001b[0m\n\u001b[0;32m---> 10\u001b[0;31m \u001b[0mm\u001b[0m\u001b[0;34m.\u001b[0m\u001b[0mbuild\u001b[0m\u001b[0;34m(\u001b[0m\u001b[0;34m)\u001b[0m\u001b[0;34m\u001b[0m\u001b[0m\n\u001b[0m\u001b[1;32m     11\u001b[0m \u001b[0mm\u001b[0m\u001b[0;34m.\u001b[0m\u001b[0msolve\u001b[0m\u001b[0;34m(\u001b[0m\u001b[0;34m)\u001b[0m\u001b[0;34m\u001b[0m\u001b[0m\n\u001b[1;32m     12\u001b[0m \u001b[0mshowing_models_inner_temp\u001b[0m \u001b[0;34m=\u001b[0m \u001b[0mm\u001b[0m\u001b[0;34m.\u001b[0m\u001b[0mob_mdp\u001b[0m\u001b[0;34m\u001b[0m\u001b[0m\n",
      "\u001b[0;32m/Users/smitha/proj/ml/demonstration-teach-learn/planninginbeliefmodel.pyc\u001b[0m in \u001b[0;36mbuild\u001b[0;34m(self)\u001b[0m\n\u001b[1;32m    100\u001b[0m \u001b[0;34m\u001b[0m\u001b[0m\n\u001b[1;32m    101\u001b[0m     \u001b[0;32mdef\u001b[0m \u001b[0mbuild\u001b[0m\u001b[0;34m(\u001b[0m\u001b[0mself\u001b[0m\u001b[0;34m)\u001b[0m\u001b[0;34m:\u001b[0m\u001b[0;34m\u001b[0m\u001b[0m\n\u001b[0;32m--> 102\u001b[0;31m         \u001b[0mself\u001b[0m\u001b[0;34m.\u001b[0m\u001b[0mob_mdp\u001b[0m\u001b[0;34m.\u001b[0m\u001b[0mbuild_discretized_tf\u001b[0m\u001b[0;34m(\u001b[0m\u001b[0;34m)\u001b[0m\u001b[0;34m\u001b[0m\u001b[0m\n\u001b[0m\u001b[1;32m    103\u001b[0m         \u001b[0mself\u001b[0m\u001b[0;34m.\u001b[0m\u001b[0mob_mdp\u001b[0m\u001b[0;34m.\u001b[0m\u001b[0mcreate_start_state\u001b[0m\u001b[0;34m(\u001b[0m\u001b[0;34m)\u001b[0m\u001b[0;34m\u001b[0m\u001b[0m\n\u001b[1;32m    104\u001b[0m \u001b[0;34m\u001b[0m\u001b[0m\n",
      "\u001b[0;32m/Users/smitha/proj/ml/demonstration-teach-learn/ped_irl/discretizedobmdp.pyc\u001b[0m in \u001b[0;36mbuild_discretized_tf\u001b[0;34m(self)\u001b[0m\n\u001b[1;32m     63\u001b[0m         \u001b[0mself\u001b[0m\u001b[0;34m.\u001b[0m\u001b[0mbp_nbrs\u001b[0m \u001b[0;34m=\u001b[0m \u001b[0mbp_nbrs\u001b[0m\u001b[0;34m\u001b[0m\u001b[0m\n\u001b[1;32m     64\u001b[0m \u001b[0;34m\u001b[0m\u001b[0m\n\u001b[0;32m---> 65\u001b[0;31m         \u001b[0mself\u001b[0m\u001b[0;34m.\u001b[0m\u001b[0mdisc_tf\u001b[0m \u001b[0;34m=\u001b[0m \u001b[0mself\u001b[0m\u001b[0;34m.\u001b[0m\u001b[0m_gen_discretized_tf\u001b[0m\u001b[0;34m(\u001b[0m\u001b[0mself\u001b[0m\u001b[0;34m.\u001b[0m\u001b[0mbelief_points\u001b[0m\u001b[0;34m)\u001b[0m\u001b[0;34m\u001b[0m\u001b[0m\n\u001b[0m\u001b[1;32m     66\u001b[0m \u001b[0;34m\u001b[0m\u001b[0m\n\u001b[1;32m     67\u001b[0m     \u001b[0;32mdef\u001b[0m \u001b[0m_gen_belief_grid\u001b[0m\u001b[0;34m(\u001b[0m\u001b[0mself\u001b[0m\u001b[0;34m,\u001b[0m \u001b[0mn_probability_bins\u001b[0m\u001b[0;34m)\u001b[0m\u001b[0;34m:\u001b[0m\u001b[0;34m\u001b[0m\u001b[0m\n",
      "\u001b[0;32m/Users/smitha/proj/ml/demonstration-teach-learn/ped_irl/discretizedobmdp.pyc\u001b[0m in \u001b[0;36m_gen_discretized_tf\u001b[0;34m(self, belief_points)\u001b[0m\n\u001b[1;32m     89\u001b[0m                 \u001b[0ms\u001b[0m \u001b[0;34m=\u001b[0m \u001b[0;34m(\u001b[0m\u001b[0mb\u001b[0m\u001b[0;34m,\u001b[0m \u001b[0mw\u001b[0m\u001b[0;34m)\u001b[0m\u001b[0;34m\u001b[0m\u001b[0m\n\u001b[1;32m     90\u001b[0m                 \u001b[0;32mfor\u001b[0m \u001b[0ma\u001b[0m \u001b[0;32min\u001b[0m \u001b[0mobmdp\u001b[0m\u001b[0;34m.\u001b[0m\u001b[0mavailable_actions\u001b[0m\u001b[0;34m(\u001b[0m\u001b[0ms\u001b[0m\u001b[0;34m)\u001b[0m\u001b[0;34m:\u001b[0m\u001b[0;34m\u001b[0m\u001b[0m\n\u001b[0;32m---> 91\u001b[0;31m                     \u001b[0;32mfor\u001b[0m \u001b[0mns\u001b[0m \u001b[0;32min\u001b[0m \u001b[0mobmdp\u001b[0m\u001b[0;34m.\u001b[0m\u001b[0mtransition_dist\u001b[0m\u001b[0;34m(\u001b[0m\u001b[0ms\u001b[0m\u001b[0;34m,\u001b[0m \u001b[0ma\u001b[0m\u001b[0;34m)\u001b[0m\u001b[0;34m.\u001b[0m\u001b[0mkeys\u001b[0m\u001b[0;34m(\u001b[0m\u001b[0;34m)\u001b[0m\u001b[0;34m:\u001b[0m\u001b[0;34m\u001b[0m\u001b[0m\n\u001b[0m\u001b[1;32m     92\u001b[0m                         \u001b[0mnb\u001b[0m\u001b[0;34m,\u001b[0m \u001b[0mnw\u001b[0m \u001b[0;34m=\u001b[0m \u001b[0mns\u001b[0m\u001b[0;34m\u001b[0m\u001b[0m\n\u001b[1;32m     93\u001b[0m                         \u001b[0mnext_beliefs\u001b[0m\u001b[0;34m.\u001b[0m\u001b[0mappend\u001b[0m\u001b[0;34m(\u001b[0m\u001b[0mnb\u001b[0m\u001b[0;34m)\u001b[0m\u001b[0;34m\u001b[0m\u001b[0m\n",
      "\u001b[0;32m/Users/smitha/proj/ml/demonstration-teach-learn/ped_irl/obs_belief_mdp.pyc\u001b[0m in \u001b[0;36mtransition_dist\u001b[0;34m(self, s, a)\u001b[0m\n\u001b[1;32m    103\u001b[0m             \u001b[0;32melse\u001b[0m\u001b[0;34m:\u001b[0m\u001b[0;34m\u001b[0m\u001b[0m\n\u001b[1;32m    104\u001b[0m                 \u001b[0mnb\u001b[0m \u001b[0;34m=\u001b[0m \u001b[0mb\u001b[0m\u001b[0;34m*\u001b[0m\u001b[0mnb_nw\u001b[0m\u001b[0;34m\u001b[0m\u001b[0m\n\u001b[0;32m--> 105\u001b[0;31m             \u001b[0mnb\u001b[0m \u001b[0;34m=\u001b[0m \u001b[0mtuple\u001b[0m\u001b[0;34m(\u001b[0m\u001b[0mnb\u001b[0m \u001b[0;34m/\u001b[0m \u001b[0mnp\u001b[0m\u001b[0;34m.\u001b[0m\u001b[0msum\u001b[0m\u001b[0;34m(\u001b[0m\u001b[0mnb\u001b[0m\u001b[0;34m)\u001b[0m\u001b[0;34m)\u001b[0m\u001b[0;34m\u001b[0m\u001b[0m\n\u001b[0m\u001b[1;32m    106\u001b[0m             \u001b[0mt_dist\u001b[0m\u001b[0;34m[\u001b[0m\u001b[0;34m(\u001b[0m\u001b[0mnb\u001b[0m\u001b[0;34m,\u001b[0m \u001b[0mnw\u001b[0m\u001b[0;34m)\u001b[0m\u001b[0;34m]\u001b[0m \u001b[0;34m=\u001b[0m \u001b[0mp\u001b[0m\u001b[0;34m\u001b[0m\u001b[0m\n\u001b[1;32m    107\u001b[0m \u001b[0;34m\u001b[0m\u001b[0m\n",
      "\u001b[0;32m/Users/smitha/miniconda3/envs/py27/lib/python2.7/site-packages/numpy/core/fromnumeric.pyc\u001b[0m in \u001b[0;36msum\u001b[0;34m(a, axis, dtype, out, keepdims, initial)\u001b[0m\n\u001b[1;32m   1928\u001b[0m \u001b[0;34m\u001b[0m\u001b[0m\n\u001b[1;32m   1929\u001b[0m     return _wrapreduction(a, np.add, 'sum', axis, dtype, out, keepdims=keepdims,\n\u001b[0;32m-> 1930\u001b[0;31m                           initial=initial)\n\u001b[0m\u001b[1;32m   1931\u001b[0m \u001b[0;34m\u001b[0m\u001b[0m\n\u001b[1;32m   1932\u001b[0m \u001b[0;34m\u001b[0m\u001b[0m\n",
      "\u001b[0;32m/Users/smitha/miniconda3/envs/py27/lib/python2.7/site-packages/numpy/core/fromnumeric.pyc\u001b[0m in \u001b[0;36m_wrapreduction\u001b[0;34m(obj, ufunc, method, axis, dtype, out, **kwargs)\u001b[0m\n\u001b[1;32m     81\u001b[0m                 \u001b[0;32mreturn\u001b[0m \u001b[0mreduction\u001b[0m\u001b[0;34m(\u001b[0m\u001b[0maxis\u001b[0m\u001b[0;34m=\u001b[0m\u001b[0maxis\u001b[0m\u001b[0;34m,\u001b[0m \u001b[0mout\u001b[0m\u001b[0;34m=\u001b[0m\u001b[0mout\u001b[0m\u001b[0;34m,\u001b[0m \u001b[0;34m**\u001b[0m\u001b[0mpasskwargs\u001b[0m\u001b[0;34m)\u001b[0m\u001b[0;34m\u001b[0m\u001b[0m\n\u001b[1;32m     82\u001b[0m \u001b[0;34m\u001b[0m\u001b[0m\n\u001b[0;32m---> 83\u001b[0;31m     \u001b[0;32mreturn\u001b[0m \u001b[0mufunc\u001b[0m\u001b[0;34m.\u001b[0m\u001b[0mreduce\u001b[0m\u001b[0;34m(\u001b[0m\u001b[0mobj\u001b[0m\u001b[0;34m,\u001b[0m \u001b[0maxis\u001b[0m\u001b[0;34m,\u001b[0m \u001b[0mdtype\u001b[0m\u001b[0;34m,\u001b[0m \u001b[0mout\u001b[0m\u001b[0;34m,\u001b[0m \u001b[0;34m**\u001b[0m\u001b[0mpasskwargs\u001b[0m\u001b[0;34m)\u001b[0m\u001b[0;34m\u001b[0m\u001b[0m\n\u001b[0m\u001b[1;32m     84\u001b[0m \u001b[0;34m\u001b[0m\u001b[0m\n\u001b[1;32m     85\u001b[0m \u001b[0;34m\u001b[0m\u001b[0m\n",
      "\u001b[0;31mKeyboardInterrupt\u001b[0m: "
     ]
    }
   ],
   "source": [
    "m = PlanningInObserverBeliefModel(\n",
    "    base_discount_rate = do_discount,\n",
    "    base_softmax_temp = do_softmax,\n",
    "    obmdp_discount_rate = obmdp_discount_rate,\n",
    "    obmdp_softmax_temp=obmdp_softmax_temp,\n",
    "    true_mdp_code=mdp_codes[0],\n",
    "    discretized_tf=None\n",
    ")\n",
    "m.seed_beliefs_with_trajs(seed_trajs)\n",
    "m.build()\n",
    "m.solve()\n",
    "showing_models_inner_temp = m.ob_mdp"
   ]
  },
  {
   "cell_type": "code",
   "execution_count": 23,
   "metadata": {},
   "outputs": [
    {
     "name": "stdout",
     "output_type": "stream",
     "text": [
      "ooo  35.71s\n",
      "oox  38.17s\n",
      "oxo  40.49s\n",
      "oxx  46.82s\n",
      "xoo  43.96s\n",
      "xox  43.75s\n",
      "xxo  44.92s\n",
      "xxx  93.92s\n"
     ]
    }
   ],
   "source": [
    "showing_models = []\n",
    "tf = None\n",
    "for i, rfc in enumerate(mdp_codes):\n",
    "    starttime = time.time()\n",
    "    print rfc,\n",
    "    m = PlanningInObserverBeliefModel(\n",
    "        base_discount_rate = base_discount_rate,\n",
    "        base_softmax_temp = base_softmax_temp,\n",
    "        obmdp_discount_rate = obmdp_discount_rate,\n",
    "        obmdp_softmax_temp=obmdp_softmax_temp,\n",
    "        \n",
    "        true_mdp_code=rfc,\n",
    "        discretized_tf=tf\n",
    "    )\n",
    "    m.seed_beliefs_with_trajs(seed_trajs)\n",
    "    m.build()\n",
    "    m.solve()\n",
    "    showing_models.append(m.ob_mdp)\n",
    "    tf = m.ob_mdp.get_discretized_tf()\n",
    "    print \" %.2fs\" % (time.time() - starttime)"
   ]
  },
  {
   "cell_type": "markdown",
   "metadata": {},
   "source": [
    "# Generating trajectories and calculating observer beliefs\n",
    "\n",
    "The following two blocks generate *doing* and *showing* world-state/action trajectories using the models defined above. For each sequence of world-states and actions, we then calculate the change in the observer models' beliefs over time. The two models are the *naive* and *sophisticated* observers, which correspond to the following equations, respectively:\n",
    "\n",
    "\\begin{align}\n",
    "b^{\\text{Obs}}_{t+1}(M_i) &= P(M_i \\mid w_t, a_t, w_{t+1})\\\\\n",
    "&\\propto P(a_t, w_{t+1} \\mid w_t, M_i)P(M_i)\\\\\n",
    "&= P(a_t \\mid w_t, M_i)P(w_{t+1} \\mid w_t, a_t, M_i)P(M_i)\\\\\n",
    "&= \\pi_{i}^{\\text{Do}}(a_t \\mid w_t)T_{i}(w_{t+1} \\mid w_t, a_t)b_t^{\\text{Obs}}(M_i).\n",
    "\\end{align}\n",
    "\n",
    "and\n",
    "\n",
    "\\begin{align}\n",
    "b^{\\text{S-Obs}}_{t+1}(M_i) &= P(M_i \\mid w_t, b^{\\text{Obs}}_t, a_t, w_{t+1}, b^{\\text{Obs}}_{t+1}) \\\\\n",
    "&\\propto \\pi_i^{\\text{Show}}(a_t \\mid w_t, b_t^{\\text{Obs}})T_i(w_{t+1} \\mid w_t, a_t)b_t^{\\text{S-Obs}}(M_i).\n",
    "\\end{align}\n",
    "\n",
    "Each trajectory and final belief state is recorded in the `model_obs_judgments` dataframe and cached.\n",
    "\n",
    "**Estimated running time: 20 min**"
   ]
  },
  {
   "cell_type": "code",
   "execution_count": 7,
   "metadata": {},
   "outputs": [],
   "source": [
    "def calc_obs_sobs_traj(wtraj):\n",
    "    b_sobs = np.array(showing_models[0].get_init_state()[0])\n",
    "    s = showing_models_inner_temp.get_init_state()\n",
    "    inner_s = s\n",
    "    \n",
    "    obs_traj = [s[0],]\n",
    "    sobs_traj = [b_sobs,]\n",
    "    for w, a in wtraj:\n",
    "        # get next naive belief\n",
    "        ns = showing_models_inner_temp.transition(s=s, a=a)\n",
    "        obs_traj.append(ns[0])\n",
    "        \n",
    "        # calc next sophisticated belief\n",
    "        inner_ns = showing_models[0].transition(s=inner_s, a=a)\n",
    "        show_a_probs = []\n",
    "        for m in showing_models:\n",
    "            a_probs = m.get_softmax_actionprobs(s=inner_s, temp=obmdp_softmax_temp)\n",
    "            show_a_probs.append(a_probs[a])\n",
    "        show_a_probs = np.array(show_a_probs)\n",
    "        b_sobs = b_sobs*show_a_probs\n",
    "        b_sobs = b_sobs/np.sum(b_sobs)\n",
    "        sobs_traj.append(b_sobs)\n",
    "        \n",
    "        s = ns\n",
    "        inner_s = inner_ns\n",
    "    return {'obs_traj': obs_traj, 'sobs_traj': sobs_traj}\n",
    "\n",
    "def is_correct(row):\n",
    "    rf = dict(zip(['orange', 'purple', 'cyan'], row['rf']))\n",
    "    if rf[row['color']] == 'x' \\\n",
    "            and row['exp_safe'] < .5:\n",
    "        return True\n",
    "    elif rf[row['color']] == 'o' \\\n",
    "            and row['exp_safe'] >= .5:\n",
    "        return True\n",
    "    return False\n",
    "\n",
    "def calc_correct_prob(row):\n",
    "    rf = dict(zip(['orange', 'purple', 'cyan'], row['rf']))\n",
    "    if rf[row['color']] == 'x':\n",
    "        return 1 - row['exp_safe']\n",
    "    elif rf[row['color']] == 'o':\n",
    "        return row['exp_safe']"
   ]
  },
  {
   "cell_type": "code",
   "execution_count": 8,
   "metadata": {},
   "outputs": [
    {
     "name": "stdout",
     "output_type": "stream",
     "text": [
      "0  107.16s\n",
      "1  105.14s\n",
      "2  105.61s\n",
      "3  106.44s\n",
      "4  106.16s\n",
      "5  2043.07s\n",
      "6  1488.26s\n",
      "7  107.68s\n"
     ]
    }
   ],
   "source": [
    "n_trajs = 100\n",
    "forder = ['orange', 'purple', 'cyan']\n",
    "model_obs_judgments = []\n",
    "for mi, (do_m, show_m) in enumerate(zip(doing_models, showing_models)):\n",
    "    do_wtrajs = []\n",
    "    show_wtrajs = []\n",
    "    \n",
    "    print mi,\n",
    "    starttime = time.time()\n",
    "    for _ in xrange(n_trajs):\n",
    "        # generate and interpret DOING trajectory\n",
    "        do_traj = do_m.run(temp=do_softmax)\n",
    "        do_traj = [(w, a) for w, a, nw, r in do_traj]\n",
    "        \n",
    "        belief_trajs = calc_obs_sobs_traj(do_traj)\n",
    "        obs_judg = mdp_to_feature_belief(belief_trajs['obs_traj'][-1], mdp_codes, forder)\n",
    "        obs_judg['rf'] = mdp_codes[mi]\n",
    "        obs_judg['observer'] = 'naive'\n",
    "        obs_judg['demonstrator'] = 'doing'\n",
    "        obs_judg['traj'] = do_traj\n",
    "        obs_judg['belief_traj'] = belief_trajs['obs_traj']\n",
    "        model_obs_judgments.append(obs_judg)\n",
    "        \n",
    "        sobs_judg = mdp_to_feature_belief(belief_trajs['sobs_traj'][-1], mdp_codes, forder)\n",
    "        sobs_judg['rf'] = mdp_codes[mi]\n",
    "        sobs_judg['observer'] = 'sophisticated'\n",
    "        sobs_judg['demonstrator'] = 'doing'\n",
    "        sobs_judg['traj'] = do_traj\n",
    "        sobs_judg['belief_traj'] = belief_trajs['sobs_traj']\n",
    "        model_obs_judgments.append(sobs_judg)\n",
    "        \n",
    "        # generate and interpret SHOWING trajectory\n",
    "        show_traj = show_m.run(temp=obmdp_softmax_temp)\n",
    "        show_traj = [(w, a) for (b, w), a, ns, r in show_traj]\n",
    "        \n",
    "        belief_trajs = calc_obs_sobs_traj(show_traj)\n",
    "        obs_judg = mdp_to_feature_belief(belief_trajs['obs_traj'][-1], mdp_codes, forder)\n",
    "        obs_judg['rf'] = mdp_codes[mi]\n",
    "        obs_judg['observer'] = 'naive'\n",
    "        obs_judg['demonstrator'] = 'showing'\n",
    "        obs_judg['traj'] = show_traj\n",
    "        obs_judg['belief_traj'] = belief_trajs['obs_traj']\n",
    "        model_obs_judgments.append(obs_judg)\n",
    "        \n",
    "        sobs_judg = mdp_to_feature_belief(belief_trajs['sobs_traj'][-1], mdp_codes, forder)\n",
    "        sobs_judg['rf'] = mdp_codes[mi]\n",
    "        sobs_judg['observer'] = 'sophisticated'\n",
    "        sobs_judg['demonstrator'] = 'showing'\n",
    "        sobs_judg['traj'] = show_traj\n",
    "        sobs_judg['belief_traj'] = belief_trajs['sobs_traj']\n",
    "        model_obs_judgments.append(sobs_judg)\n",
    "    print \" %.2fs\" % (time.time() - starttime)\n",
    "        \n",
    "model_obs_judgments = pd.DataFrame(model_obs_judgments)\n",
    "model_obs_judgments = pd.melt(model_obs_judgments,\n",
    "    id_vars=['demonstrator', 'rf', 'observer', 'traj', 'belief_traj'], \n",
    "    value_name='exp_safe', \n",
    "    var_name='color')\n",
    "\n",
    "model_obs_judgments['confidence'] = model_obs_judgments['exp_safe'].apply(lambda v: abs(.5-v))\n",
    "model_obs_judgments['correct'] = model_obs_judgments.apply(is_correct, axis=1)\n",
    "model_obs_judgments['correct_prob'] = model_obs_judgments.apply(calc_correct_prob, axis=1)\n",
    "model_obs_judgments.to_pickle('./cached_values/model_.pkl')"
   ]
  },
  {
   "cell_type": "code",
   "execution_count": 6,
   "metadata": {},
   "outputs": [
    {
     "name": "stdout",
     "output_type": "stream",
     "text": [
      "['ooo', 'oox', 'oxo', 'oxx', 'xoo', 'xox', 'xxo', 'xxx']\n"
     ]
    }
   ],
   "source": [
    "print(mdp_codes)"
   ]
  },
  {
   "cell_type": "code",
   "execution_count": 8,
   "metadata": {},
   "outputs": [
    {
     "name": "stdout",
     "output_type": "stream",
     "text": [
      "ooo\n",
      "{'y': 50, 'p': 0, 'c': 0, 'o': 0, '.': 0}\n",
      "oox\n",
      "{'y': 50, 'p': 0, 'c': -10, 'o': 0, '.': 0}\n",
      "oxo\n",
      "{'y': 50, 'p': -10, 'c': 0, 'o': 0, '.': 0}\n",
      "oxx\n",
      "{'y': 50, 'p': -10, 'c': -10, 'o': 0, '.': 0}\n",
      "xoo\n",
      "{'y': 50, 'p': 0, 'c': 0, 'o': -10, '.': 0}\n",
      "xox\n",
      "{'y': 50, 'p': 0, 'c': -10, 'o': -10, '.': 0}\n",
      "xxo\n",
      "{'y': 50, 'p': -10, 'c': 0, 'o': -10, '.': 0}\n",
      "xxx\n",
      "{'y': 50, 'p': -10, 'c': -10, 'o': -10, '.': 0}\n"
     ]
    }
   ],
   "source": [
    "for mdp_code, mdp_param in zip(mdp_codes, mdp_params):\n",
    "    print(mdp_code)\n",
    "    print(mdp_param['feature_rewards'])"
   ]
  },
  {
   "cell_type": "code",
   "execution_count": 38,
   "metadata": {},
   "outputs": [],
   "source": [
    "def get_human_traj_likelihood(human_trajs, traj_type='show'):\n",
    "    \"\"\"\n",
    "    Calculates log likelihood of showing human trajs under doing and showing model.\n",
    "    \"\"\"\n",
    "    ll_do, ll_show = 0, 0\n",
    "    total_trajs = 0\n",
    "    for rf, doing_model, showing_model in zip(mdp_codes, doing_models, showing_models):\n",
    "        do_policy = doing_model.get_softmax_function(do_softmax)\n",
    "        show_policy = showing_model.get_softmax_function(do_softmax)\n",
    "        if traj_type == 'show':\n",
    "            wtrajs = human_trajs[rf][1]\n",
    "        elif traj_type == 'do':\n",
    "            wtrajs = human_trajs[rf][0]\n",
    "        total_trajs += len(wtrajs)\n",
    "        for wtraj in wtrajs:\n",
    "            s = showing_model.get_init_state()\n",
    "            for w, a in wtraj:\n",
    "                ll_do += np.log(do_policy[w][a])\n",
    "                show_action_prob = showing_model.get_softmax_actionprobs(\n",
    "                    s=s, temp=obmdp_softmax_temp)[a]\n",
    "                ll_show += np.log(show_action_prob)\n",
    "                s = showing_model.transition(s=s, a=a)\n",
    "    ll_do, ll_show = ll_do/total_trajs, ll_show/total_trajs\n",
    "    return ll_do, ll_show"
   ]
  },
  {
   "cell_type": "code",
   "execution_count": 12,
   "metadata": {},
   "outputs": [],
   "source": [
    "human_trajs = get_human_trajs()"
   ]
  },
  {
   "cell_type": "code",
   "execution_count": 33,
   "metadata": {},
   "outputs": [
    {
     "data": {
      "text/plain": [
       "(-42.99551940614264, -26.92586380495133)"
      ]
     },
     "execution_count": 33,
     "metadata": {},
     "output_type": "execute_result"
    }
   ],
   "source": [
    "get_human_traj_likelihood(human_trajs)"
   ]
  },
  {
   "cell_type": "code",
   "execution_count": 37,
   "metadata": {},
   "outputs": [
    {
     "data": {
      "text/plain": [
       "(-21.11288195803672, -28.0774046726638)"
      ]
     },
     "execution_count": 37,
     "metadata": {},
     "output_type": "execute_result"
    }
   ],
   "source": [
    "get_human_traj_likelihood(human_trajs)"
   ]
  },
  {
   "cell_type": "code",
   "execution_count": null,
   "metadata": {},
   "outputs": [],
   "source": []
  },
  {
   "cell_type": "code",
   "execution_count": 3,
   "metadata": {},
   "outputs": [],
   "source": [
    "def get_human_trajs():\n",
    "    trials = pd.read_pickle('./data/teaching-trials.pd.pkl')\n",
    "    trials = trials[trials['phase'] == 'demonstration']\n",
    "    do_trajs, show_trajs = [], []\n",
    "    rf_order = ['ooo', 'xoo', 'oox', 'oxo', 'xox', 'xxo', 'oxx', 'xxx']\n",
    "    cond_order = ['do', 'show']\n",
    "    trajs = {}\n",
    "    for rf in rf_order:\n",
    "        trajs[rf] = [[], []]\n",
    "    for (rf, cond, p), ptrials in trials.groupby(['rf', 'cond', 'participant']):\n",
    "        ptrials = ptrials.sort_values('timestep')\n",
    "        traj = list(ptrials['stateaction'])# + [((5, 2), 'x'), ]\n",
    "        if cond == 'do':\n",
    "            trajs[rf][0].append(traj)\n",
    "        elif cond == 'show':\n",
    "            trajs[rf][1].append(traj)\n",
    "    return trajs\n",
    "\n",
    "def get_human_results():\n",
    "    wtrajs = get_human_trajs()\n",
    "    forder = ['orange', 'purple', 'cyan']\n",
    "    model_obs_judgments = []\n",
    "    for mi, (do_m, show_m) in enumerate(zip(doing_models, showing_models)):\n",
    "        do_wtrajs = []\n",
    "        show_wtrajs = []\n",
    "\n",
    "        rf = mdp_codes[mi]\n",
    "        print mi,\n",
    "        starttime = time.time()\n",
    "        human_trajs = wtrajs[rf]\n",
    "        for (do_traj, show_traj) in zip(human_trajs[0], human_trajs[1]):\n",
    "            # interpret DOING trajectory\n",
    "            belief_trajs = calc_obs_sobs_traj(do_traj)\n",
    "            obs_judg = mdp_to_feature_belief(belief_trajs['obs_traj'][-1], mdp_codes, forder)\n",
    "            obs_judg['rf'] = rf\n",
    "            obs_judg['observer'] = 'naive'\n",
    "            obs_judg['demonstrator'] = 'doing'\n",
    "            obs_judg['traj'] = do_traj\n",
    "            obs_judg['belief_traj'] = belief_trajs['obs_traj']\n",
    "            model_obs_judgments.append(obs_judg)\n",
    "\n",
    "            sobs_judg = mdp_to_feature_belief(belief_trajs['sobs_traj'][-1], mdp_codes, forder)\n",
    "            sobs_judg['rf'] = rf\n",
    "            sobs_judg['observer'] = 'sophisticated'\n",
    "            sobs_judg['demonstrator'] = 'doing'\n",
    "            sobs_judg['traj'] = do_traj\n",
    "            sobs_judg['belief_traj'] = belief_trajs['sobs_traj']\n",
    "            model_obs_judgments.append(sobs_judg)\n",
    "\n",
    "            # interpret SHOWING trajectory\n",
    "            belief_trajs = calc_obs_sobs_traj(show_traj)\n",
    "            obs_judg = mdp_to_feature_belief(belief_trajs['obs_traj'][-1], mdp_codes, forder)\n",
    "            obs_judg['rf'] = rf\n",
    "            obs_judg['observer'] = 'naive'\n",
    "            obs_judg['demonstrator'] = 'showing'\n",
    "            obs_judg['traj'] = show_traj\n",
    "            obs_judg['belief_traj'] = belief_trajs['obs_traj']\n",
    "            model_obs_judgments.append(obs_judg)\n",
    "\n",
    "            sobs_judg = mdp_to_feature_belief(belief_trajs['sobs_traj'][-1], mdp_codes, forder)\n",
    "            sobs_judg['rf'] = rf\n",
    "            sobs_judg['observer'] = 'sophisticated'\n",
    "            sobs_judg['demonstrator'] = 'showing'\n",
    "            sobs_judg['traj'] = show_traj\n",
    "            sobs_judg['belief_traj'] = belief_trajs['sobs_traj']\n",
    "            model_obs_judgments.append(sobs_judg)\n",
    "        print \" %.2fs\" % (time.time() - starttime)\n",
    "\n",
    "    model_obs_judgments = pd.DataFrame(model_obs_judgments)\n",
    "    model_obs_judgments = pd.melt(model_obs_judgments,\n",
    "        id_vars=['demonstrator', 'rf', 'observer', 'traj', 'belief_traj'], \n",
    "        value_name='exp_safe', \n",
    "        var_name='color')\n",
    "\n",
    "    model_obs_judgments['confidence'] = model_obs_judgments['exp_safe'].apply(lambda v: abs(.5-v))\n",
    "    model_obs_judgments['correct'] = model_obs_judgments.apply(is_correct, axis=1)\n",
    "    model_obs_judgments['correct_prob'] = model_obs_judgments.apply(calc_correct_prob, axis=1)\n",
    "    model_obs_judgments.to_pickle('./cached_values/human_results.pkl')"
   ]
  },
  {
   "cell_type": "code",
   "execution_count": 31,
   "metadata": {},
   "outputs": [
    {
     "name": "stdout",
     "output_type": "stream",
     "text": [
      "0  0.11s\n",
      "1  0.15s\n",
      "2  0.16s\n",
      "3  0.16s\n",
      "4  0.14s\n",
      "5  0.14s\n",
      "6  0.12s\n",
      "7  0.10s\n"
     ]
    }
   ],
   "source": [
    "get_human_results()"
   ]
  }
 ],
 "metadata": {
  "kernelspec": {
   "display_name": "Python 2",
   "language": "python",
   "name": "python2"
  },
  "language_info": {
   "codemirror_mode": {
    "name": "ipython",
    "version": 2
   },
   "file_extension": ".py",
   "mimetype": "text/x-python",
   "name": "python",
   "nbconvert_exporter": "python",
   "pygments_lexer": "ipython2",
   "version": "2.7.15"
  }
 },
 "nbformat": 4,
 "nbformat_minor": 2
}
