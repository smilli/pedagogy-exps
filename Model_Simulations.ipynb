{
 "cells": [
  {
   "cell_type": "markdown",
   "metadata": {},
   "source": [
    "# Teaching with and Learning from Demonstration model\n",
    "This notebook generates simulation data for four models: the doing demonstrator, showing model, naive observer, and sophisticated observer. Visualizations of these simulations are in the Visualization notebook."
   ]
  },
  {
   "cell_type": "code",
   "execution_count": 1,
   "metadata": {},
   "outputs": [
    {
     "data": {
      "text/plain": [
       "{'divide': 'raise', 'invalid': 'raise', 'over': 'raise', 'under': 'raise'}"
      ]
     },
     "execution_count": 1,
     "metadata": {},
     "output_type": "execute_result"
    }
   ],
   "source": [
    "import copy\n",
    "from itertools import product\n",
    "import time\n",
    "import pickle\n",
    "\n",
    "import matplotlib.pyplot as plt\n",
    "import numpy as np\n",
    "import pandas as pd\n",
    "import seaborn as sns\n",
    "\n",
    "from mdp_lib.domains.gridworld import GridWorld\n",
    "from planninginbeliefmodel import PlanningInObserverBeliefModel\n",
    "from mdp_lib.domains.gridworldvis import visualize_trajectory, plot_text\n",
    "from task import mdp_codes, mdp_params\n",
    "from mdp_lib.util import sample_prob_dict\n",
    "from util import mdp_to_feature_belief\n",
    "\n",
    "np.random.seed(128374027)\n",
    "np.seterr(under='ignore')"
   ]
  },
  {
   "cell_type": "markdown",
   "metadata": {},
   "source": [
    "# Parameters for doing and showing demonstration models"
   ]
  },
  {
   "cell_type": "code",
   "execution_count": 2,
   "metadata": {},
   "outputs": [],
   "source": [
    "#doing model parameters\n",
    "do_discount = .99\n",
    "do_softmax = 0.08\n",
    "\n",
    "#showing model parameters\n",
    "base_discount_rate = .99\n",
    "base_softmax_temp = 3.0\n",
    "obmdp_discount_rate = .9\n",
    "obmdp_softmax_temp= 1"
   ]
  },
  {
   "cell_type": "markdown",
   "metadata": {},
   "source": [
    "# Doing model\n",
    "This code builds doing models for the different MDPs that are defined in `task.py`. It also generates seed trajectories for building a discretized observer belief MDP (OBMDP) transition function. Using trajectories guided by what a doing agent would do helps focus the approximation on parts of the world-belief state space that are relevant."
   ]
  },
  {
   "cell_type": "code",
   "execution_count": 3,
   "metadata": {},
   "outputs": [],
   "source": [
    "doing_models = []\n",
    "seed_trajs = []\n",
    "for p in mdp_params:\n",
    "    p = copy.deepcopy(p)\n",
    "    p['discount_rate'] = do_discount\n",
    "    m = GridWorld(**p)\n",
    "    m.solve()\n",
    "    doing_models.append(m)\n",
    "    \n",
    "    #generate seed trajectories for OBMDP discretization\n",
    "    for _ in xrange(20):\n",
    "        traj = m.run(temp=.7)\n",
    "        if traj[-1][1] != '%':\n",
    "            continue\n",
    "        seed_trajs.append([(w, a) for w, a, _, _ in traj])\n",
    "        \n",
    "with open(\"./cached_values/seed_trajs.pkl\", 'wb') as f:\n",
    "    pickle.dump(seed_trajs, f)"
   ]
  },
  {
   "cell_type": "markdown",
   "metadata": {},
   "source": [
    "# Showing model\n",
    "This block builds showing models for the different possible OBMDPs using the `PlanningInObserverBeliefModel` class defined in `planninginbeliefmodel.py`. It discretizes the belief space using the `seed_trajs` generated in the previous block and solves the resulting (large) discrete MDP.\n",
    "\n",
    "**Estimated running time: 6-8 mins**.\n",
    "\n",
    "*Note that since the ground transition function is the same across all the ground MDPs considered here, the world-belief transitions are also the same. This means we can speed up computations slightly by reusing the transition function, `tf`.*"
   ]
  },
  {
   "cell_type": "code",
   "execution_count": 4,
   "metadata": {
    "scrolled": true
   },
   "outputs": [],
   "source": [
    "# Belief updates for doing model\n",
    "m = PlanningInObserverBeliefModel(\n",
    "    base_discount_rate = do_discount,\n",
    "    base_softmax_temp = do_softmax,\n",
    "    obmdp_discount_rate = obmdp_discount_rate,\n",
    "    obmdp_softmax_temp=obmdp_softmax_temp,\n",
    "    true_mdp_code=mdp_codes[0],\n",
    "    discretized_tf=None\n",
    ")\n",
    "m.seed_beliefs_with_trajs(seed_trajs)\n",
    "m.build()\n",
    "m.solve()\n",
    "showing_models_inner_temp = m.ob_mdp"
   ]
  },
  {
   "cell_type": "code",
   "execution_count": null,
   "metadata": {},
   "outputs": [],
   "source": [
    "\"\"\"# Models you infer trajectories with\n",
    "def gen_showing_trajs():\n",
    "    showing_models = []\n",
    "    for true_belief_reward in true_belief_rewards:\n",
    "        tf = None\n",
    "        for i, rfc in enumerate(mdp_codes):\n",
    "            starttime = time.time()\n",
    "            print rfc,\n",
    "            m = PlanningInObserverBeliefModel(\n",
    "                base_discount_rate = base_discount_rate,\n",
    "                base_softmax_temp = base_softmax_temp,\n",
    "                obmdp_discount_rate = obmdp_discount_rate,\n",
    "                obmdp_softmax_temp=obmdp_softmax_temp,\n",
    "                true_mdp_code=rfc,\n",
    "                discretized_tf=tf,\n",
    "                true_belief_reward=0\n",
    "            )\n",
    "            m.seed_beliefs_with_trajs(seed_trajs)\n",
    "            m.build()\n",
    "            m.solve()\n",
    "            if true_belief_reward == 50:\n",
    "                showing_models.append(m.ob_mdp)\n",
    "            tf = m.ob_mdp.get_discretized_tf()\n",
    "            print \" %.2fs\" % (time.time() - starttime)\"\"\""
   ]
  },
  {
   "cell_type": "code",
   "execution_count": 6,
   "metadata": {},
   "outputs": [
    {
     "name": "stdout",
     "output_type": "stream",
     "text": [
      " ooo  34.49s\n",
      "oox  36.91s\n",
      "oxo  38.78s\n",
      "oxx  43.65s\n",
      "xoo  40.29s\n",
      "xox  41.40s\n",
      "xxo  42.68s\n",
      "xxx  87.46s\n"
     ]
    }
   ],
   "source": [
    "showing_models = []\n",
    "tf = None\n",
    "for i, rfc in enumerate(mdp_codes):\n",
    "    starttime = time.time()\n",
    "    print rfc,\n",
    "    m = PlanningInObserverBeliefModel(\n",
    "        base_discount_rate = base_discount_rate,\n",
    "        base_softmax_temp = base_softmax_temp,\n",
    "        obmdp_discount_rate = obmdp_discount_rate,\n",
    "        obmdp_softmax_temp=obmdp_softmax_temp,\n",
    "        true_mdp_code=rfc,\n",
    "        discretized_tf=tf\n",
    "    )\n",
    "    m.seed_beliefs_with_trajs(seed_trajs)\n",
    "    m.build()\n",
    "    m.solve()\n",
    "    showing_models.append(m.ob_mdp)\n",
    "    tf = m.ob_mdp.get_discretized_tf()\n",
    "    print \" %.2fs\" % (time.time() - starttime)"
   ]
  },
  {
   "cell_type": "markdown",
   "metadata": {},
   "source": [
    "# Generating trajectories and calculating observer beliefs\n",
    "\n",
    "The following two blocks generate *doing* and *showing* world-state/action trajectories using the models defined above. For each sequence of world-states and actions, we then calculate the change in the observer models' beliefs over time. The two models are the *naive* and *sophisticated* observers, which correspond to the following equations, respectively:\n",
    "\n",
    "\\begin{align}\n",
    "b^{\\text{Obs}}_{t+1}(M_i) &= P(M_i \\mid w_t, a_t, w_{t+1})\\\\\n",
    "&\\propto P(a_t, w_{t+1} \\mid w_t, M_i)P(M_i)\\\\\n",
    "&= P(a_t \\mid w_t, M_i)P(w_{t+1} \\mid w_t, a_t, M_i)P(M_i)\\\\\n",
    "&= \\pi_{i}^{\\text{Do}}(a_t \\mid w_t)T_{i}(w_{t+1} \\mid w_t, a_t)b_t^{\\text{Obs}}(M_i).\n",
    "\\end{align}\n",
    "\n",
    "and\n",
    "\n",
    "\\begin{align}\n",
    "b^{\\text{S-Obs}}_{t+1}(M_i) &= P(M_i \\mid w_t, b^{\\text{Obs}}_t, a_t, w_{t+1}, b^{\\text{Obs}}_{t+1}) \\\\\n",
    "&\\propto \\pi_i^{\\text{Show}}(a_t \\mid w_t, b_t^{\\text{Obs}})T_i(w_{t+1} \\mid w_t, a_t)b_t^{\\text{S-Obs}}(M_i).\n",
    "\\end{align}\n",
    "\n",
    "Each trajectory and final belief state is recorded in the `model_obs_judgments` dataframe and cached.\n",
    "\n",
    "**Estimated running time: 20 min**"
   ]
  },
  {
   "cell_type": "code",
   "execution_count": null,
   "metadata": {},
   "outputs": [],
   "source": [
    "def calc_obs_sobs_traj(wtraj):\n",
    "    b_sobs = np.array(showing_models[0].get_init_state()[0])\n",
    "    s = showing_models_inner_temp.get_init_state()\n",
    "    inner_s = s\n",
    "    \n",
    "    obs_traj = [s[0],]\n",
    "    sobs_traj = [b_sobs,]\n",
    "    for w, a in wtraj:\n",
    "        # get next naive belief\n",
    "        ns = showing_models_inner_temp.transition(s=s, a=a)\n",
    "        obs_traj.append(ns[0])\n",
    "        \n",
    "        # calc next sophisticated belief\n",
    "        inner_ns = showing_models[0].transition(s=inner_s, a=a)\n",
    "        show_a_probs = []\n",
    "        for m in showing_models:\n",
    "            a_probs = m.get_softmax_actionprobs(s=inner_s, temp=obmdp_softmax_temp)\n",
    "            show_a_probs.append(a_probs[a])\n",
    "        show_a_probs = np.array(show_a_probs)\n",
    "        b_sobs = b_sobs*show_a_probs\n",
    "        b_sobs = b_sobs/np.sum(b_sobs)\n",
    "        sobs_traj.append(b_sobs)\n",
    "        \n",
    "        s = ns\n",
    "        inner_s = inner_ns\n",
    "    return {'obs_traj': obs_traj, 'sobs_traj': sobs_traj}\n",
    "\n",
    "def is_correct(row):\n",
    "    rf = dict(zip(['orange', 'purple', 'cyan'], row['rf']))\n",
    "    if rf[row['color']] == 'x' \\\n",
    "            and row['exp_safe'] < .5:\n",
    "        return True\n",
    "    elif rf[row['color']] == 'o' \\\n",
    "            and row['exp_safe'] >= .5:\n",
    "        return True\n",
    "    return False\n",
    "\n",
    "def calc_correct_prob(row):\n",
    "    rf = dict(zip(['orange', 'purple', 'cyan'], row['rf']))\n",
    "    if rf[row['color']] == 'x':\n",
    "        return 1 - row['exp_safe']\n",
    "    elif rf[row['color']] == 'o':\n",
    "        return row['exp_safe']"
   ]
  },
  {
   "cell_type": "code",
   "execution_count": null,
   "metadata": {},
   "outputs": [],
   "source": [
    "def gen_do_trajs(doing_models, showing_models, num_trajs=100):\n",
    "    all_do_trajs, all_show_trajs = [], []\n",
    "    for mi, (do_m, show_m) in enumerate(zip(doing_models, showing_models)):\n",
    "        print(mi)\n",
    "        mdp_do_trajs, mdp_show_trajs = [], []\n",
    "        for _ in xrange(num_trajs):\n",
    "            do_traj = do_m.run(temp=do_softmax)\n",
    "            do_traj = [(w, a) for w, a, nw, r in do_traj]\n",
    "            mdp_do_trajs.append(do_traj)\n",
    "            \n",
    "            show_traj = show_m.run(temp=obmdp_softmax_temp)\n",
    "            show_traj = [(w, a) for (b, w), a, ns, r in show_traj]\n",
    "            mdp_show_trajs.append(show_traj)\n",
    "        all_do_trajs.append(mdp_do_trajs)\n",
    "        all_show_trajs.append(mdp_show_trajs)\n",
    "    return all_do_trajs, all_show_trajs"
   ]
  },
  {
   "cell_type": "code",
   "execution_count": null,
   "metadata": {},
   "outputs": [],
   "source": [
    "def gen_trajs(showing_models, num_trajs=100):\n",
    "    all_show_trajs = []\n",
    "    for mi, show_m in enumerate(showing_models):\n",
    "        print(mi)\n",
    "        mdp_show_trajs = []\n",
    "        for _ in xrange(num_trajs):\n",
    "            show_traj = show_m.run(temp=obmdp_softmax_temp)\n",
    "            show_traj = [(w, a) for (b, w), a, ns, r in show_traj]\n",
    "            mdp_show_trajs.append(show_traj)\n",
    "        all_show_trajs.append(mdp_show_trajs)\n",
    "    return all_show_trajs"
   ]
  },
  {
   "cell_type": "code",
   "execution_count": null,
   "metadata": {},
   "outputs": [],
   "source": [
    "all_do_trajs, all_show_trajs = gen_do_trajs(doing_models, showing_models)"
   ]
  },
  {
   "cell_type": "code",
   "execution_count": null,
   "metadata": {},
   "outputs": [],
   "source": [
    "r0_show_trajs = gen_trajs(showing_models)"
   ]
  },
  {
   "cell_type": "code",
   "execution_count": null,
   "metadata": {},
   "outputs": [],
   "source": [
    "def simulate(filename, do_trajs, show_trajs, true_showing_models=None):\n",
    "    if true_showing_models is None:\n",
    "        true_showing_models = showing_models\n",
    "    n_trajs = 100\n",
    "    forder = ['orange', 'purple', 'cyan']\n",
    "    model_obs_judgments = []\n",
    "    for mi, (do_m, show_m, do_trajs, show_trajs) in enumerate(zip(doing_models, true_showing_models, all_do_trajs, all_show_trajs)):\n",
    "        do_wtrajs = []\n",
    "        show_wtrajs = []\n",
    "\n",
    "        print mi,\n",
    "        starttime = time.time()\n",
    "        for do_traj, show_traj in zip(do_trajs, show_trajs):\n",
    "            belief_trajs = calc_obs_sobs_traj(do_traj)\n",
    "            obs_judg = mdp_to_feature_belief(belief_trajs['obs_traj'][-1], mdp_codes, forder)\n",
    "            obs_judg['rf'] = mdp_codes[mi]\n",
    "            obs_judg['observer'] = 'naive'\n",
    "            obs_judg['demonstrator'] = 'doing'\n",
    "            obs_judg['traj'] = do_traj\n",
    "            obs_judg['belief_traj'] = belief_trajs['obs_traj']\n",
    "            model_obs_judgments.append(obs_judg)\n",
    "\n",
    "            sobs_judg = mdp_to_feature_belief(belief_trajs['sobs_traj'][-1], mdp_codes, forder)\n",
    "            sobs_judg['rf'] = mdp_codes[mi]\n",
    "            sobs_judg['observer'] = 'sophisticated'\n",
    "            sobs_judg['demonstrator'] = 'doing'\n",
    "            sobs_judg['traj'] = do_traj\n",
    "            sobs_judg['belief_traj'] = belief_trajs['sobs_traj']\n",
    "            model_obs_judgments.append(sobs_judg)\n",
    "\n",
    "            belief_trajs = calc_obs_sobs_traj(show_traj)\n",
    "            obs_judg = mdp_to_feature_belief(belief_trajs['obs_traj'][-1], mdp_codes, forder)\n",
    "            obs_judg['rf'] = mdp_codes[mi]\n",
    "            obs_judg['observer'] = 'naive'\n",
    "            obs_judg['demonstrator'] = 'showing'\n",
    "            obs_judg['traj'] = show_traj\n",
    "            obs_judg['belief_traj'] = belief_trajs['obs_traj']\n",
    "            model_obs_judgments.append(obs_judg)\n",
    "\n",
    "            sobs_judg = mdp_to_feature_belief(belief_trajs['sobs_traj'][-1], mdp_codes, forder)\n",
    "            sobs_judg['rf'] = mdp_codes[mi]\n",
    "            sobs_judg['observer'] = 'sophisticated'\n",
    "            sobs_judg['demonstrator'] = 'showing'\n",
    "            sobs_judg['traj'] = show_traj\n",
    "            sobs_judg['belief_traj'] = belief_trajs['sobs_traj']\n",
    "            model_obs_judgments.append(sobs_judg)\n",
    "        print \" %.2fs\" % (time.time() - starttime)\n",
    "\n",
    "    model_obs_judgments = pd.DataFrame(model_obs_judgments)\n",
    "    model_obs_judgments = pd.melt(model_obs_judgments,\n",
    "        id_vars=['demonstrator', 'rf', 'observer', 'traj', 'belief_traj'], \n",
    "        value_name='exp_safe', \n",
    "        var_name='color')\n",
    "\n",
    "    model_obs_judgments['confidence'] = model_obs_judgments['exp_safe'].apply(lambda v: abs(.5-v))\n",
    "    model_obs_judgments['correct'] = model_obs_judgments.apply(is_correct, axis=1)\n",
    "    model_obs_judgments['correct_prob'] = model_obs_judgments.apply(calc_correct_prob, axis=1)\n",
    "    model_obs_judgments.to_pickle('./cached_values/{0}.pkl'.format(filename))"
   ]
  },
  {
   "cell_type": "code",
   "execution_count": null,
   "metadata": {},
   "outputs": [],
   "source": [
    "simulate('reward0', all_do_trajs, r0_show_trajs)"
   ]
  },
  {
   "cell_type": "code",
   "execution_count": null,
   "metadata": {},
   "outputs": [],
   "source": [
    "simulate('reward50', all_do_trajs, all_show_trajs)"
   ]
  },
  {
   "cell_type": "markdown",
   "metadata": {},
   "source": [
    "# Human Demonstrations"
   ]
  },
  {
   "cell_type": "code",
   "execution_count": 8,
   "metadata": {},
   "outputs": [],
   "source": [
    "def get_human_trajs():\n",
    "    trials = pd.read_pickle('./data/teaching-trials.pd.pkl')\n",
    "    trials = trials[trials['phase'] == 'demonstration']\n",
    "    do_trajs, show_trajs = [], []\n",
    "    rf_order = ['ooo', 'xoo', 'oox', 'oxo', 'xox', 'xxo', 'oxx', 'xxx']\n",
    "    cond_order = ['do', 'show']\n",
    "    trajs = {}\n",
    "    for rf in rf_order:\n",
    "        trajs[rf] = [[], []]\n",
    "    for (rf, cond, p), ptrials in trials.groupby(['rf', 'cond', 'participant']):\n",
    "        ptrials = ptrials.sort_values('timestep')\n",
    "        traj = list(ptrials['stateaction'])# + [((5, 2), 'x'), ]\n",
    "        if cond == 'do':\n",
    "            trajs[rf][0].append(traj)\n",
    "        elif cond == 'show':\n",
    "            trajs[rf][1].append(traj)\n",
    "    return trajs\n",
    "\n",
    "def get_human_results():\n",
    "    wtrajs = get_human_trajs()\n",
    "    forder = ['orange', 'purple', 'cyan']\n",
    "    model_obs_judgments = []\n",
    "    for mi, (do_m, show_m) in enumerate(zip(doing_models, showing_models)):\n",
    "        do_wtrajs = []\n",
    "        show_wtrajs = []\n",
    "\n",
    "        rf = mdp_codes[mi]\n",
    "        print mi,\n",
    "        starttime = time.time()\n",
    "        human_trajs = wtrajs[rf]\n",
    "        for (do_traj, show_traj) in zip(human_trajs[0], human_trajs[1]):\n",
    "            # interpret DOING trajectory\n",
    "            belief_trajs = calc_obs_sobs_traj(do_traj)\n",
    "            obs_judg = mdp_to_feature_belief(belief_trajs['obs_traj'][-1], mdp_codes, forder)\n",
    "            obs_judg['rf'] = rf\n",
    "            obs_judg['observer'] = 'naive'\n",
    "            obs_judg['demonstrator'] = 'doing'\n",
    "            obs_judg['traj'] = do_traj\n",
    "            obs_judg['belief_traj'] = belief_trajs['obs_traj']\n",
    "            model_obs_judgments.append(obs_judg)\n",
    "\n",
    "            sobs_judg = mdp_to_feature_belief(belief_trajs['sobs_traj'][-1], mdp_codes, forder)\n",
    "            sobs_judg['rf'] = rf\n",
    "            sobs_judg['observer'] = 'sophisticated'\n",
    "            sobs_judg['demonstrator'] = 'doing'\n",
    "            sobs_judg['traj'] = do_traj\n",
    "            sobs_judg['belief_traj'] = belief_trajs['sobs_traj']\n",
    "            model_obs_judgments.append(sobs_judg)\n",
    "\n",
    "            # interpret SHOWING trajectory\n",
    "            belief_trajs = calc_obs_sobs_traj(show_traj)\n",
    "            obs_judg = mdp_to_feature_belief(belief_trajs['obs_traj'][-1], mdp_codes, forder)\n",
    "            obs_judg['rf'] = rf\n",
    "            obs_judg['observer'] = 'naive'\n",
    "            obs_judg['demonstrator'] = 'showing'\n",
    "            obs_judg['traj'] = show_traj\n",
    "            obs_judg['belief_traj'] = belief_trajs['obs_traj']\n",
    "            model_obs_judgments.append(obs_judg)\n",
    "\n",
    "            sobs_judg = mdp_to_feature_belief(belief_trajs['sobs_traj'][-1], mdp_codes, forder)\n",
    "            sobs_judg['rf'] = rf\n",
    "            sobs_judg['observer'] = 'sophisticated'\n",
    "            sobs_judg['demonstrator'] = 'showing'\n",
    "            sobs_judg['traj'] = show_traj\n",
    "            sobs_judg['belief_traj'] = belief_trajs['sobs_traj']\n",
    "            model_obs_judgments.append(sobs_judg)\n",
    "        print \" %.2fs\" % (time.time() - starttime)\n",
    "\n",
    "    model_obs_judgments = pd.DataFrame(model_obs_judgments)\n",
    "    model_obs_judgments = pd.melt(model_obs_judgments,\n",
    "        id_vars=['demonstrator', 'rf', 'observer', 'traj', 'belief_traj'], \n",
    "        value_name='exp_safe', \n",
    "        var_name='color')\n",
    "\n",
    "    model_obs_judgments['confidence'] = model_obs_judgments['exp_safe'].apply(lambda v: abs(.5-v))\n",
    "    model_obs_judgments['correct'] = model_obs_judgments.apply(is_correct, axis=1)\n",
    "    model_obs_judgments['correct_prob'] = model_obs_judgments.apply(calc_correct_prob, axis=1)\n",
    "    model_obs_judgments.to_pickle('./cached_values/human_results.pkl')"
   ]
  },
  {
   "cell_type": "code",
   "execution_count": null,
   "metadata": {},
   "outputs": [],
   "source": [
    "get_human_results()"
   ]
  },
  {
   "cell_type": "markdown",
   "metadata": {},
   "source": [
    "# Human Traj Likelihood"
   ]
  },
  {
   "cell_type": "code",
   "execution_count": 9,
   "metadata": {},
   "outputs": [],
   "source": [
    "human_trajs = get_human_trajs()"
   ]
  },
  {
   "cell_type": "code",
   "execution_count": 15,
   "metadata": {},
   "outputs": [],
   "source": [
    "def get_human_traj_likelihood(human_trajs, mixtures=[0, 1], traj_type='show'):\n",
    "    \"\"\"\n",
    "    Calculates log likelihood of showing human trajs under doing and showing model.\n",
    "    \n",
    "    Params:\n",
    "        human_trajs\n",
    "        mixtures: list of the probability that the human is pedagogic in mixture model\n",
    "    \"\"\"\n",
    "    lls = np.zeros(len(mixtures))\n",
    "    total_trajs = 0\n",
    "    for rf, doing_model, showing_model in zip(mdp_codes, doing_models, showing_models):\n",
    "        do_policy = doing_model.get_softmax_function(do_softmax)\n",
    "        show_policy = showing_model.get_softmax_function(do_softmax)\n",
    "        if traj_type == 'show':\n",
    "            wtrajs = human_trajs[rf][1]\n",
    "        elif traj_type == 'do':\n",
    "            wtrajs = human_trajs[rf][0]\n",
    "        total_trajs += len(wtrajs)\n",
    "        for wtraj in wtrajs:\n",
    "            do_action_probs, show_action_probs = [], []\n",
    "            s = showing_model.get_init_state()\n",
    "            for w, a in wtraj:\n",
    "                do_action_probs.append(do_policy[w][a])\n",
    "                show_action_prob = showing_model.get_softmax_actionprobs(\n",
    "                    s=s, temp=obmdp_softmax_temp)[a]\n",
    "                show_action_probs.append(show_action_prob)\n",
    "                s = showing_model.transition(s=s, a=a)\n",
    "            do_action_probs, show_action_probs = np.array(do_action_probs), np.array(show_action_probs)\n",
    "            for i, mixture_prob in enumerate(mixtures):\n",
    "                probs = do_action_probs*(1-mixture_prob) + show_action_probs*(mixture_prob)\n",
    "                ll = np.sum(np.log(probs))\n",
    "                lls[i] += ll\n",
    "    lls = lls/total_trajs\n",
    "    return lls"
   ]
  },
  {
   "cell_type": "code",
   "execution_count": 65,
   "metadata": {},
   "outputs": [],
   "source": [
    "mixtures = np.linspace(0, 1, 101)\n",
    "do_lls = get_human_traj_likelihood(human_trajs, mixtures, traj_type='do')"
   ]
  },
  {
   "cell_type": "code",
   "execution_count": 62,
   "metadata": {},
   "outputs": [],
   "source": [
    "mixtures = np.linspace(0, 1, 101)\n",
    "lls = get_human_traj_likelihood(human_trajs, mixtures)"
   ]
  },
  {
   "cell_type": "code",
   "execution_count": 63,
   "metadata": {},
   "outputs": [
    {
     "name": "stdout",
     "output_type": "stream",
     "text": [
      "[-42.99551941 -20.85974772 -19.94139614 -19.37368936 -18.96027413\n",
      " -18.63514974 -18.36762949 -18.14083535 -17.94445312 -17.77170351\n",
      " -17.61788527 -17.47960116 -17.35431476 -17.24008138 -17.13537688\n",
      " -17.03898434 -16.9499167  -16.86736235 -16.79064599 -16.71919988\n",
      " -16.6525423  -16.59026123 -16.53200168 -16.47745587 -16.42635537\n",
      " -16.37846492 -16.33357736 -16.29150958 -16.25209909 -16.21520132\n",
      " -16.18068727 -16.14844157 -16.11836089 -16.09035251 -16.06433321\n",
      " -16.04022824 -16.01797045 -15.99749963 -15.97876178 -15.96170866\n",
      " -15.94629725 -15.93248941 -15.92025148 -15.90955403 -15.90037158\n",
      " -15.89268237 -15.88646823 -15.88171437 -15.87840932 -15.87654479\n",
      " -15.87611565 -15.87711982 -15.87955833 -15.88343526 -15.88875781\n",
      " -15.89553632 -15.90378437 -15.91351888 -15.9247602  -15.93753233\n",
      " -15.95186308 -15.96778429 -15.98533211 -16.00454731 -16.02547564\n",
      " -16.04816826 -16.07268223 -16.09908108 -16.12743545 -16.1578239\n",
      " -16.19033378 -16.22506227 -16.26211766 -16.30162076 -16.34370665\n",
      " -16.38852673 -16.43625121 -16.48707203 -16.54120655 -16.59890193\n",
      " -16.66044059 -16.72614709 -16.79639668 -16.87162629 -16.95234866\n",
      " -17.03917092 -17.13281922 -17.23417225 -17.34430745 -17.46456667\n",
      " -17.59665162 -17.7427676  -17.90584807 -18.08992258 -18.30075556\n",
      " -18.54704084 -18.84286753 -19.21357039 -19.71293682 -20.49848631\n",
      " -26.9258638 ]\n"
     ]
    }
   ],
   "source": [
    "print(lls)"
   ]
  },
  {
   "cell_type": "code",
   "execution_count": 20,
   "metadata": {},
   "outputs": [],
   "source": [
    "import matplotlib.pyplot as plt\n",
    "import seaborn as sns\n",
    "sns.set_style('white')\n",
    "sns.set_context(\"paper\", font_scale=2.5, rc={\"lines.linewidth\": 3.0})\n",
    "sns.set_style({'lines.linewidth': 12, 'lines.markersize': 10, \n",
    "               'lines.markeredgewidth': 2, 'errorbar.capsize': 2,\n",
    "               'axes.titlesize': 24\n",
    "})\n",
    "from matplotlib import rc\n",
    "rc(\"font\", **{\"family\": \"serif\", \"serif\": [\"Palatino\"]})\n",
    "rc(\"text\", usetex = True)\n",
    "rc(\"axes\", **{\"titlesize\": 36, \"labelsize\": 30})"
   ]
  },
  {
   "cell_type": "code",
   "execution_count": 70,
   "metadata": {},
   "outputs": [],
   "source": [
    "def plot_lls(mixtures, lls, title, filename=None):\n",
    "    fig = plt.figure()\n",
    "    fig.set_size_inches((10, 10))\n",
    "    plt.plot(mixtures, lls, marker='o', markerfacecolor='white')\n",
    "    plt.xlabel('Probability of Being Pedagogic')\n",
    "    plt.ylabel('Mean Negative Log-Likelihood')\n",
    "    plt.title(title)\n",
    "    if filename is not None:\n",
    "        fig.savefig('/Users/smitha/proj/ml/human_misspec/figs/pedagogy/{0}.pdf'.format(filename))"
   ]
  },
  {
   "cell_type": "code",
   "execution_count": 59,
   "metadata": {},
   "outputs": [
    {
     "name": "stdout",
     "output_type": "stream",
     "text": [
      "[-21.11288196  -6.33530135  -6.20713988  -6.15448587  -6.13439508\n",
      "  -6.13317828  -6.14468214  -6.16561326  -6.1940116   -6.22862651\n",
      "  -6.26862186  -6.31342174  -6.36262321  -6.41594418  -6.47319064\n",
      "  -6.53423555  -6.5990048   -6.66746776  -6.73963096  -6.81553398\n",
      "  -6.89524689  -6.97886899  -7.06652853  -7.15838336  -7.25462246\n",
      "  -7.35546825  -7.46117991  -7.57205776  -7.68844876  -7.81075367\n",
      "  -7.93943604  -8.07503351  -8.21817245  -8.36958651  -8.53014092\n",
      "  -8.7008644   -8.88299173  -9.0780218   -9.28779802  -9.51462274\n",
      "  -9.76142434 -10.03200951 -10.33145933 -10.66678117 -11.04804714\n",
      " -11.49053837 -12.01921193 -12.67942439 -13.56897348 -14.98143404\n",
      " -28.07740467]\n"
     ]
    }
   ],
   "source": [
    "print(do_lls)"
   ]
  },
  {
   "cell_type": "code",
   "execution_count": 69,
   "metadata": {},
   "outputs": [
    {
     "name": "stdout",
     "output_type": "stream",
     "text": [
      "[0.   0.01 0.02 0.03 0.04 0.05 0.06 0.07 0.08 0.09 0.1  0.11 0.12 0.13\n",
      " 0.14 0.15 0.16 0.17 0.18 0.19 0.2  0.21 0.22 0.23 0.24 0.25 0.26 0.27\n",
      " 0.28 0.29 0.3  0.31 0.32 0.33 0.34 0.35 0.36 0.37 0.38 0.39 0.4  0.41\n",
      " 0.42 0.43 0.44 0.45 0.46 0.47 0.48 0.49 0.5  0.51 0.52 0.53 0.54 0.55\n",
      " 0.56 0.57 0.58 0.59 0.6  0.61 0.62 0.63 0.64 0.65 0.66 0.67 0.68 0.69\n",
      " 0.7  0.71 0.72 0.73 0.74 0.75 0.76 0.77 0.78 0.79 0.8  0.81 0.82 0.83\n",
      " 0.84 0.85 0.86 0.87 0.88 0.89 0.9  0.91 0.92 0.93 0.94 0.95 0.96 0.97\n",
      " 0.98 0.99 1.  ]\n"
     ]
    }
   ],
   "source": [
    "print(mixtures)"
   ]
  },
  {
   "cell_type": "code",
   "execution_count": 67,
   "metadata": {},
   "outputs": [
    {
     "name": "stdout",
     "output_type": "stream",
     "text": [
      "0.5\n"
     ]
    }
   ],
   "source": [
    "print(mixtures[np.argmax(lls)])"
   ]
  },
  {
   "cell_type": "code",
   "execution_count": 68,
   "metadata": {},
   "outputs": [
    {
     "name": "stdout",
     "output_type": "stream",
     "text": [
      "0.09\n"
     ]
    }
   ],
   "source": [
    "print(mixtures[np.argmax(do_lls)])"
   ]
  },
  {
   "cell_type": "code",
   "execution_count": 71,
   "metadata": {},
   "outputs": [
    {
     "data": {
      "image/png": "[encoded data removed]",
      "text/plain": [
       "<Figure size 720x720 with 1 Axes>"
      ]
     },
     "metadata": {},
     "output_type": "display_data"
    }
   ],
   "source": [
    "plot_lls(mixtures, -do_lls, title='Demonstrations from Literal Condition', filename='do_mixture_lls')"
   ]
  },
  {
   "cell_type": "code",
   "execution_count": 72,
   "metadata": {},
   "outputs": [
    {
     "data": {
      "image/png": "[encoded data removed]",
      "text/plain": [
       "<Figure size 720x720 with 1 Axes>"
      ]
     },
     "metadata": {},
     "output_type": "display_data"
    }
   ],
   "source": [
    "plot_lls(mixtures, -lls, title='Demonstrations from Pedagogic Condition', filename='ped_mix_lls')"
   ]
  },
  {
   "cell_type": "code",
   "execution_count": null,
   "metadata": {},
   "outputs": [],
   "source": []
  }
 ],
 "metadata": {
  "kernelspec": {
   "display_name": "Python 2",
   "language": "python",
   "name": "python2"
  },
  "language_info": {
   "codemirror_mode": {
    "name": "ipython",
    "version": 2
   },
   "file_extension": ".py",
   "mimetype": "text/x-python",
   "name": "python",
   "nbconvert_exporter": "python",
   "pygments_lexer": "ipython2",
   "version": "2.7.15"
  }
 },
 "nbformat": 4,
 "nbformat_minor": 2
}
