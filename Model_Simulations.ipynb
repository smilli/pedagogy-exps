{
 "cells": [
  {
   "cell_type": "markdown",
   "metadata": {},
   "source": [
    "# Teaching with and Learning from Demonstration model\n",
    "This notebook generates simulation data for four models: the doing demonstrator, showing model, naive observer, and sophisticated observer. Visualizations of these simulations are in the Visualization notebook."
   ]
  },
  {
   "cell_type": "code",
   "execution_count": 2,
   "metadata": {},
   "outputs": [
    {
     "data": {
      "text/plain": [
       "{'divide': 'raise', 'invalid': 'raise', 'over': 'raise', 'under': 'ignore'}"
      ]
     },
     "execution_count": 2,
     "metadata": {},
     "output_type": "execute_result"
    }
   ],
   "source": [
    "import copy\n",
    "from itertools import product\n",
    "import time\n",
    "import pickle\n",
    "from collections import defaultdict\n",
    "\n",
    "import matplotlib.pyplot as plt\n",
    "import numpy as np\n",
    "import pandas as pd\n",
    "import seaborn as sns\n",
    "\n",
    "from mdp_lib.domains.gridworld import GridWorld\n",
    "from mdp_lib.util import sample_prob_dict\n",
    "from planninginbeliefmodel import PlanningInObserverBeliefModel\n",
    "from mdp_lib.domains.gridworldvis import visualize_trajectory, plot_text\n",
    "from task import mdp_codes, mdp_params\n",
    "from mdp_lib.util import sample_prob_dict\n",
    "from util import mdp_to_feature_belief\n",
    "\n",
    "np.random.seed(128374027)\n",
    "np.seterr(under='ignore')"
   ]
  },
  {
   "cell_type": "markdown",
   "metadata": {},
   "source": [
    "# Parameters for doing and showing demonstration models"
   ]
  },
  {
   "cell_type": "code",
   "execution_count": 3,
   "metadata": {},
   "outputs": [],
   "source": [
    "#doing model parameters\n",
    "do_discount = .99\n",
    "do_softmax = 0.08\n",
    "\n",
    "#showing model parameters\n",
    "base_discount_rate = .99\n",
    "base_softmax_temp = 3.0\n",
    "obmdp_discount_rate = .9\n",
    "obmdp_softmax_temp = 1"
   ]
  },
  {
   "cell_type": "markdown",
   "metadata": {},
   "source": [
    "# Doing model\n",
    "This code builds doing models for the different MDPs that are defined in `task.py`. It also generates seed trajectories for building a discretized observer belief MDP (OBMDP) transition function. Using trajectories guided by what a doing agent would do helps focus the approximation on parts of the world-belief state space that are relevant."
   ]
  },
  {
   "cell_type": "code",
   "execution_count": 4,
   "metadata": {},
   "outputs": [],
   "source": [
    "doing_models = []\n",
    "seed_trajs = []\n",
    "for p in mdp_params:\n",
    "    p = copy.deepcopy(p)\n",
    "    p['discount_rate'] = do_discount\n",
    "    m = GridWorld(**p)\n",
    "    m.solve()\n",
    "    doing_models.append(m)\n",
    "    \n",
    "    #generate seed trajectories for OBMDP discretization\n",
    "    for _ in xrange(20):\n",
    "        traj = m.run(temp=.7)\n",
    "        if traj[-1][1] != '%':\n",
    "            continue\n",
    "        seed_trajs.append([(w, a) for w, a, _, _ in traj])\n",
    "        \n",
    "with open(\"./cached_values/seed_trajs.pkl\", 'wb') as f:\n",
    "    pickle.dump(seed_trajs, f)"
   ]
  },
  {
   "cell_type": "markdown",
   "metadata": {},
   "source": [
    "# Showing model\n",
    "This block builds showing models for the different possible OBMDPs using the `PlanningInObserverBeliefModel` class defined in `planninginbeliefmodel.py`. It discretizes the belief space using the `seed_trajs` generated in the previous block and solves the resulting (large) discrete MDP.\n",
    "\n",
    "**Estimated running time: 6-8 mins**.\n",
    "\n",
    "*Note that since the ground transition function is the same across all the ground MDPs considered here, the world-belief transitions are also the same. This means we can speed up computations slightly by reusing the transition function, `tf`.*"
   ]
  },
  {
   "cell_type": "code",
   "execution_count": 5,
   "metadata": {
    "scrolled": true
   },
   "outputs": [],
   "source": [
    "# Belief updates for doing model\n",
    "m = PlanningInObserverBeliefModel(\n",
    "    base_discount_rate = do_discount,\n",
    "    base_softmax_temp = do_softmax,\n",
    "    obmdp_discount_rate = obmdp_discount_rate,\n",
    "    obmdp_softmax_temp=obmdp_softmax_temp,\n",
    "    true_mdp_code=mdp_codes[0],\n",
    "    discretized_tf=None\n",
    ")\n",
    "m.seed_beliefs_with_trajs(seed_trajs)\n",
    "m.build()\n",
    "m.solve()\n",
    "showing_models_inner_temp = m.ob_mdp"
   ]
  },
  {
   "cell_type": "code",
   "execution_count": 6,
   "metadata": {},
   "outputs": [
    {
     "name": "stdout",
     "output_type": "stream",
     "text": [
      "ooo  35.37s\n",
      "oox  37.94s\n",
      "oxo  39.38s\n",
      "oxx  41.37s\n",
      "xoo  36.97s\n",
      "xox  39.19s\n",
      "xxo  39.79s\n",
      "xxx  82.47s\n"
     ]
    }
   ],
   "source": [
    "showing_models = []\n",
    "tf = None\n",
    "for i, rfc in enumerate(mdp_codes):\n",
    "    starttime = time.time()\n",
    "    print rfc,\n",
    "    m = PlanningInObserverBeliefModel(\n",
    "        base_discount_rate = base_discount_rate,\n",
    "        base_softmax_temp = base_softmax_temp,\n",
    "        obmdp_discount_rate = obmdp_discount_rate,\n",
    "        obmdp_softmax_temp=obmdp_softmax_temp,\n",
    "        true_mdp_code=rfc,\n",
    "        discretized_tf=tf\n",
    "    )\n",
    "    m.seed_beliefs_with_trajs(seed_trajs)\n",
    "    m.build()\n",
    "    m.solve()\n",
    "    showing_models.append(m.ob_mdp)\n",
    "    tf = m.ob_mdp.get_discretized_tf()\n",
    "    print \" %.2fs\" % (time.time() - starttime)"
   ]
  },
  {
   "cell_type": "markdown",
   "metadata": {},
   "source": [
    "# Generating trajectories and calculating observer beliefs\n",
    "\n",
    "The following two blocks generate *doing* and *showing* world-state/action trajectories using the models defined above. For each sequence of world-states and actions, we then calculate the change in the observer models' beliefs over time. The two models are the *naive* and *sophisticated* observers, which correspond to the following equations, respectively:\n",
    "\n",
    "\\begin{align}\n",
    "b^{\\text{Obs}}_{t+1}(M_i) &= P(M_i \\mid w_t, a_t, w_{t+1})\\\\\n",
    "&\\propto P(a_t, w_{t+1} \\mid w_t, M_i)P(M_i)\\\\\n",
    "&= P(a_t \\mid w_t, M_i)P(w_{t+1} \\mid w_t, a_t, M_i)P(M_i)\\\\\n",
    "&= \\pi_{i}^{\\text{Do}}(a_t \\mid w_t)T_{i}(w_{t+1} \\mid w_t, a_t)b_t^{\\text{Obs}}(M_i).\n",
    "\\end{align}\n",
    "\n",
    "and\n",
    "\n",
    "\\begin{align}\n",
    "b^{\\text{S-Obs}}_{t+1}(M_i) &= P(M_i \\mid w_t, b^{\\text{Obs}}_t, a_t, w_{t+1}, b^{\\text{Obs}}_{t+1}) \\\\\n",
    "&\\propto \\pi_i^{\\text{Show}}(a_t \\mid w_t, b_t^{\\text{Obs}})T_i(w_{t+1} \\mid w_t, a_t)b_t^{\\text{S-Obs}}(M_i).\n",
    "\\end{align}\n",
    "\n",
    "Each trajectory and final belief state is recorded in the `model_obs_judgments` dataframe and cached.\n",
    "\n",
    "**Estimated running time: 20 min**"
   ]
  },
  {
   "cell_type": "code",
   "execution_count": 7,
   "metadata": {},
   "outputs": [],
   "source": [
    "def calc_obs_sobs_traj(wtraj, mixture_prob=1):\n",
    "    b_sobs = np.array(showing_models[0].get_init_state()[0])\n",
    "    s = showing_models_inner_temp.get_init_state()\n",
    "    inner_s = s\n",
    "    \n",
    "    obs_traj = [s[0],]\n",
    "    sobs_traj = [b_sobs,]\n",
    "    doing_policies = [dm.get_softmax_function(do_softmax) for dm in doing_models]\n",
    "    for w, a in wtraj:\n",
    "        # get next naive belief\n",
    "        ns = showing_models_inner_temp.transition(s=s, a=a)\n",
    "        obs_traj.append(ns[0])\n",
    "        \n",
    "        # calc next sophisticated belief\n",
    "        inner_ns = showing_models[0].transition(s=inner_s, a=a)\n",
    "        mixture_probs = []\n",
    "        for dp, sm in zip(doing_policies, showing_models):\n",
    "            sm_prob = sm.get_softmax_actionprobs(s=inner_s, temp=obmdp_softmax_temp)[a]\n",
    "            if mixture_prob < 1:\n",
    "                dm_prob = dp[w][a]\n",
    "                mixture_prob = sm_prob*mixture_prob + dm_prob*(1-mixture_prob)\n",
    "            else:\n",
    "                mixture_prob = sm_prob\n",
    "            mixture_probs.append(mixture_prob)\n",
    "        mixture_probs = np.array(mixture_probs)\n",
    "        b_sobs = b_sobs*mixture_probs\n",
    "        b_sobs = b_sobs/np.sum(b_sobs)\n",
    "        sobs_traj.append(b_sobs)\n",
    "        \n",
    "        s = ns\n",
    "        inner_s = inner_ns\n",
    "    return {'obs_traj': obs_traj, 'sobs_traj': sobs_traj}\n",
    "\n",
    "def is_correct(row):\n",
    "    rf = dict(zip(['orange', 'purple', 'cyan'], row['rf']))\n",
    "    if rf[row['color']] == 'x' \\\n",
    "            and row['exp_safe'] < .5:\n",
    "        return True\n",
    "    elif rf[row['color']] == 'o' \\\n",
    "            and row['exp_safe'] >= .5:\n",
    "        return True\n",
    "    return False\n",
    "\n",
    "def calc_correct_prob(row):\n",
    "    rf = dict(zip(['orange', 'purple', 'cyan'], row['rf']))\n",
    "    if rf[row['color']] == 'x':\n",
    "        return 1 - row['exp_safe']\n",
    "    elif rf[row['color']] == 'o':\n",
    "        return row['exp_safe']"
   ]
  },
  {
   "cell_type": "code",
   "execution_count": 8,
   "metadata": {},
   "outputs": [],
   "source": [
    "def gen_trajs(doing_models, showing_models, num_trajs=100):\n",
    "    all_do_trajs, all_show_trajs = [], []\n",
    "    for mi, (do_m, show_m) in enumerate(zip(doing_models, showing_models)):\n",
    "        print(mi)\n",
    "        mdp_do_trajs, mdp_show_trajs = [], []\n",
    "        for _ in xrange(num_trajs):\n",
    "            do_traj = do_m.run(temp=do_softmax)\n",
    "            do_traj = [(w, a) for w, a, nw, r in do_traj]\n",
    "            mdp_do_trajs.append(do_traj)\n",
    "            \n",
    "            show_traj = show_m.run(temp=obmdp_softmax_temp)\n",
    "            show_traj = [(w, a) for (b, w), a, ns, r in show_traj]\n",
    "            mdp_show_trajs.append(show_traj)\n",
    "        all_do_trajs.append(mdp_do_trajs)\n",
    "        all_show_trajs.append(mdp_show_trajs)\n",
    "    return all_do_trajs, all_show_trajs\n",
    "\n",
    "def gen_show_trajs(showing_models, num_trajs=100):\n",
    "    all_show_trajs = []\n",
    "    for mi, show_m in enumerate(showing_models):\n",
    "        print(mi)\n",
    "        mdp_show_trajs = []\n",
    "        for _ in xrange(num_trajs):\n",
    "            show_traj = show_m.run(temp=obmdp_softmax_temp)\n",
    "            show_traj = [(w, a) for (b, w), a, ns, r in show_traj]\n",
    "            mdp_show_trajs.append(show_traj)\n",
    "        all_show_trajs.append(mdp_show_trajs)\n",
    "    return all_show_trajs\n",
    "\n",
    "def combine_prob_dicts(doing_probs, showing_probs, mixture_prob):\n",
    "    prob = {}\n",
    "    for key in doing_probs:\n",
    "        prob[key] = doing_probs[key] * (1 - mixture_prob) + showing_probs[key] * mixture_prob\n",
    "    return prob\n",
    "\n",
    "def get_mixture_traj(start_belief_state, doing_policy, showing_policy, \n",
    "                     doing_model, showing_model, mixture_prob, cond='show', max_steps=25):\n",
    "    belief_state = start_belief_state\n",
    "    wstate = belief_state[1]\n",
    "    traj = []\n",
    "    for _ in range(max_steps):\n",
    "        doing_probs = doing_policy[wstate]\n",
    "        showing_probs = showing_policy[belief_state]\n",
    "        prob_dict = combine_prob_dicts(doing_probs, showing_probs, mixture_prob)\n",
    "        action = sample_prob_dict(prob_dict)\n",
    "        nbelief_state = showing_model.transition(belief_state, action)\n",
    "        nwstate = nbelief_state[1]\n",
    "        traj.append((wstate, action))\n",
    "        wstate = nwstate\n",
    "        belief_state = nbelief_state\n",
    "        if doing_model.is_terminal(wstate):\n",
    "            break\n",
    "    return traj\n",
    "\n",
    "def gen_mixture_trajs(mixtures, doing_models, showing_models, cond='show', num_trajs_per_rf=10):\n",
    "    doing_policies = [dm.get_softmax_function(do_softmax) for dm in doing_models]\n",
    "    showing_policies = [sm.get_softmax_function(obmdp_softmax_temp) for sm in showing_models]\n",
    "    print(showing_policies[0][showing_models[0].get_init_state()])\n",
    "    print(doing_models[0].get_init_state())\n",
    "    start_belief_state = showing_models[0].get_init_state()\n",
    "    trajs = []\n",
    "    for doing_policy, showing_policy, doing_model, showing_model in zip(\n",
    "            doing_policies, showing_policies, doing_models, showing_models):\n",
    "        rf_trajs = []\n",
    "        for i, mixture_prob in enumerate(mixtures):\n",
    "            for _ in range(num_trajs_per_rf):\n",
    "                traj = get_mixture_traj(start_belief_state, doing_policy, showing_policy, \n",
    "                            doing_model, showing_model, mixture_prob, cond)\n",
    "                if cond == 'show':\n",
    "                    rf_trajs.append({'mixture': mixture_prob, 'traj': traj})\n",
    "                else:\n",
    "                    rf_trajs.append(traj)\n",
    "        trajs.append(rf_trajs)\n",
    "    return trajs"
   ]
  },
  {
   "cell_type": "code",
   "execution_count": null,
   "metadata": {},
   "outputs": [],
   "source": [
    "show_mixture_trajs = gen_mixture_trajs(alphas, doing_models, showing_models, num_trajs_per_rf=10)"
   ]
  },
  {
   "cell_type": "code",
   "execution_count": null,
   "metadata": {},
   "outputs": [],
   "source": [
    "show_mix_trajs_x = gen_mixture_trajs(np.linspace(0, 1, 11), doing_models, showing_models, num_trajs_per_rf=100)"
   ]
  },
  {
   "cell_type": "code",
   "execution_count": null,
   "metadata": {},
   "outputs": [],
   "source": [
    "show_mix_trajs_05 = gen_mixture_trajs([0.5], doing_models, showing_models, num_trajs_per_rf=100)"
   ]
  },
  {
   "cell_type": "code",
   "execution_count": null,
   "metadata": {},
   "outputs": [],
   "source": [
    "do_trajs = gen_mixture_trajs([0], doing_models, showing_models, 'do', num_trajs_per_rf=1100)"
   ]
  },
  {
   "cell_type": "code",
   "execution_count": null,
   "metadata": {},
   "outputs": [],
   "source": [
    "def simulate(filename, do_trajs, show_trajs, mixture=False, \n",
    "             infer_with_mixture=False, infer_with_mixture_prob=1):\n",
    "    \"\"\"\n",
    "    Params:\n",
    "        filename: filename to save to\n",
    "        do_trajs\n",
    "        show_trajs\n",
    "        mixture[bool]: whether or not the show_trajs are generated from mixture\n",
    "        infer_with_mixture[bool]: whether or not the pedagogic robot should infer using the mixture model\n",
    "    \"\"\"\n",
    "    forder = ['orange', 'purple', 'cyan']\n",
    "    model_obs_judgments = []\n",
    "    num_trajs = 0\n",
    "    for mi, (do_m, show_m, rf_do_trajs, rf_show_trajs) in enumerate(zip(doing_models, showing_models, do_trajs, show_trajs)):\n",
    "        print mi,\n",
    "        starttime = time.time()\n",
    "        assert(len(rf_do_trajs) >= len(rf_show_trajs))\n",
    "        for do_traj, show_traj in zip(rf_do_trajs, rf_show_trajs):\n",
    "            num_trajs += 1\n",
    "            if mixture:\n",
    "                mixture_prob = show_traj['mixture']\n",
    "                show_traj = show_traj['traj']\n",
    "            else:\n",
    "                mixture_prob = 1\n",
    "            if infer_with_mixture:\n",
    "                belief_trajs = calc_obs_sobs_traj(do_traj, mixture_prob=infer_with_mixture_prob)\n",
    "            else:\n",
    "                belief_trajs = calc_obs_sobs_traj(do_traj)\n",
    "            obs_judg = mdp_to_feature_belief(belief_trajs['obs_traj'][-1], mdp_codes, forder)\n",
    "            obs_judg['rf'] = mdp_codes[mi]\n",
    "            obs_judg['observer'] = 'naive'\n",
    "            obs_judg['demonstrator'] = 'doing'\n",
    "            obs_judg['traj'] = do_traj\n",
    "            obs_judg['belief_traj'] = belief_trajs['obs_traj']\n",
    "            obs_judg['mixture'] = 0\n",
    "            model_obs_judgments.append(obs_judg)\n",
    "\n",
    "            sobs_judg = mdp_to_feature_belief(belief_trajs['sobs_traj'][-1], mdp_codes, forder)\n",
    "            sobs_judg['rf'] = mdp_codes[mi]\n",
    "            sobs_judg['observer'] = 'sophisticated'\n",
    "            sobs_judg['demonstrator'] = 'doing'\n",
    "            sobs_judg['traj'] = do_traj\n",
    "            sobs_judg['belief_traj'] = belief_trajs['sobs_traj']\n",
    "            sobs_judg['mixture'] = 0\n",
    "            model_obs_judgments.append(sobs_judg)\n",
    "\n",
    "            if infer_with_mixture:\n",
    "                belief_trajs = calc_obs_sobs_traj(show_traj, mixture_prob=infer_with_mixture_prob)\n",
    "            else:\n",
    "                belief_trajs = calc_obs_sobs_traj(show_traj)\n",
    "            obs_judg = mdp_to_feature_belief(belief_trajs['obs_traj'][-1], mdp_codes, forder)\n",
    "            obs_judg['rf'] = mdp_codes[mi]\n",
    "            obs_judg['observer'] = 'naive'\n",
    "            obs_judg['demonstrator'] = 'showing'\n",
    "            obs_judg['traj'] = show_traj\n",
    "            obs_judg['belief_traj'] = belief_trajs['obs_traj']\n",
    "            obs_judg['mixture'] = mixture_prob\n",
    "            model_obs_judgments.append(obs_judg)\n",
    "\n",
    "            sobs_judg = mdp_to_feature_belief(belief_trajs['sobs_traj'][-1], mdp_codes, forder)\n",
    "            sobs_judg['rf'] = mdp_codes[mi]\n",
    "            sobs_judg['observer'] = 'sophisticated'\n",
    "            sobs_judg['demonstrator'] = 'showing'\n",
    "            sobs_judg['traj'] = show_traj\n",
    "            sobs_judg['belief_traj'] = belief_trajs['sobs_traj']\n",
    "            sobs_judg['mixture'] = mixture_prob\n",
    "            model_obs_judgments.append(sobs_judg)\n",
    "        print \" %.2fs\" % (time.time() - starttime)\n",
    "    print(num_trajs)\n",
    "\n",
    "    model_obs_judgments = pd.DataFrame(model_obs_judgments)\n",
    "    model_obs_judgments = pd.melt(model_obs_judgments,\n",
    "        id_vars=['demonstrator', 'rf', 'observer', 'traj', 'belief_traj', 'mixture'], \n",
    "        value_name='exp_safe', \n",
    "        var_name='color')\n",
    "\n",
    "    model_obs_judgments['confidence'] = model_obs_judgments['exp_safe'].apply(lambda v: abs(.5-v))\n",
    "    model_obs_judgments['correct'] = model_obs_judgments.apply(is_correct, axis=1)\n",
    "    model_obs_judgments['correct_prob'] = model_obs_judgments.apply(calc_correct_prob, axis=1)\n",
    "    model_obs_judgments.to_pickle('./cached_values/{0}.pkl'.format(filename))"
   ]
  },
  {
   "cell_type": "code",
   "execution_count": null,
   "metadata": {},
   "outputs": [],
   "source": [
    "human_do_trajs, human_show_trajs = get_human_trajs(mdp_codes)"
   ]
  },
  {
   "cell_type": "code",
   "execution_count": null,
   "metadata": {},
   "outputs": [],
   "source": [
    "simulate('infer_with_mix', human_do_trajs, human_show_trajs)"
   ]
  },
  {
   "cell_type": "code",
   "execution_count": null,
   "metadata": {},
   "outputs": [],
   "source": [
    "simulate('human_new_func', human_do_trajs, human_show_trajs)"
   ]
  },
  {
   "cell_type": "code",
   "execution_count": null,
   "metadata": {},
   "outputs": [],
   "source": [
    "simulate('mixture', do_trajs, show_mixture_trajs, mixture=True)"
   ]
  },
  {
   "cell_type": "code",
   "execution_count": null,
   "metadata": {},
   "outputs": [],
   "source": []
  },
  {
   "cell_type": "markdown",
   "metadata": {},
   "source": [
    "# Human Demonstrations"
   ]
  },
  {
   "cell_type": "code",
   "execution_count": 9,
   "metadata": {},
   "outputs": [],
   "source": [
    "def get_human_do_show_trajs(rf_order):\n",
    "    trials = pd.read_pickle('./data/teaching-trials.pd.pkl')\n",
    "    trials = trials[trials['phase'] == 'demonstration']\n",
    "    do_trajs, show_trajs = [], []\n",
    "    cond_order = ['do', 'show']\n",
    "    do_trajs, show_trajs = [[] for _ in range(len(rf_order))], [[] for _ in range(len(rf_order))]\n",
    "    for (rf, cond, p), ptrials in trials.groupby(['rf', 'cond', 'participant']):\n",
    "        rf_ind = rf_order.index(rf)\n",
    "        ptrials = ptrials.sort_values('timestep')\n",
    "        traj = list(ptrials['stateaction'])# + [((5, 2), 'x'), ]\n",
    "        if cond == 'do':\n",
    "            do_trajs[rf_ind].append(traj)\n",
    "        elif cond == 'show':\n",
    "            show_trajs[rf_ind].append(traj)\n",
    "    return do_trajs, show_trajs\n",
    "\n",
    "def get_human_trajs():\n",
    "    trials = pd.read_pickle('./data/teaching-trials.pd.pkl')\n",
    "    trials = trials[trials['phase'] == 'demonstration']\n",
    "    do_trajs, show_trajs = [], []\n",
    "    rf_order = ['ooo', 'xoo', 'oox', 'oxo', 'xox', 'xxo', 'oxx', 'xxx']\n",
    "    cond_order = ['do', 'show']\n",
    "    trajs = {}\n",
    "    for rf in rf_order:\n",
    "        trajs[rf] = [[], []]\n",
    "    for (rf, cond, p), ptrials in trials.groupby(['rf', 'cond', 'participant']):\n",
    "        ptrials = ptrials.sort_values('timestep')\n",
    "        traj = list(ptrials['stateaction'])# + [((5, 2), 'x'), ]\n",
    "        if cond == 'do':\n",
    "            trajs[rf][0].append(traj)\n",
    "        elif cond == 'show':\n",
    "            trajs[rf][1].append(traj)\n",
    "    return trajs\n",
    "\n",
    "def get_human_results():\n",
    "    wtrajs = get_human_trajs()\n",
    "    forder = ['orange', 'purple', 'cyan']\n",
    "    model_obs_judgments = []\n",
    "    for mi, (do_m, show_m) in enumerate(zip(doing_models, showing_models)):\n",
    "        do_wtrajs = []\n",
    "        show_wtrajs = []\n",
    "\n",
    "        rf = mdp_codes[mi]\n",
    "        print mi,\n",
    "        starttime = time.time()\n",
    "        human_trajs = wtrajs[rf]\n",
    "        for (do_traj, show_traj) in zip(human_trajs[0], human_trajs[1]):\n",
    "            # interpret DOING trajectory\n",
    "            belief_trajs = calc_obs_sobs_traj(do_traj)\n",
    "            obs_judg = mdp_to_feature_belief(belief_trajs['obs_traj'][-1], mdp_codes, forder)\n",
    "            obs_judg['rf'] = rf\n",
    "            obs_judg['observer'] = 'naive'\n",
    "            obs_judg['demonstrator'] = 'doing'\n",
    "            obs_judg['traj'] = do_traj\n",
    "            obs_judg['belief_traj'] = belief_trajs['obs_traj']\n",
    "            model_obs_judgments.append(obs_judg)\n",
    "\n",
    "            sobs_judg = mdp_to_feature_belief(belief_trajs['sobs_traj'][-1], mdp_codes, forder)\n",
    "            sobs_judg['rf'] = rf\n",
    "            sobs_judg['observer'] = 'sophisticated'\n",
    "            sobs_judg['demonstrator'] = 'doing'\n",
    "            sobs_judg['traj'] = do_traj\n",
    "            sobs_judg['belief_traj'] = belief_trajs['sobs_traj']\n",
    "            model_obs_judgments.append(sobs_judg)\n",
    "\n",
    "            # interpret SHOWING trajectory\n",
    "            belief_trajs = calc_obs_sobs_traj(show_traj)\n",
    "            obs_judg = mdp_to_feature_belief(belief_trajs['obs_traj'][-1], mdp_codes, forder)\n",
    "            obs_judg['rf'] = rf\n",
    "            obs_judg['observer'] = 'naive'\n",
    "            obs_judg['demonstrator'] = 'showing'\n",
    "            obs_judg['traj'] = show_traj\n",
    "            obs_judg['belief_traj'] = belief_trajs['obs_traj']\n",
    "            model_obs_judgments.append(obs_judg)\n",
    "\n",
    "            sobs_judg = mdp_to_feature_belief(belief_trajs['sobs_traj'][-1], mdp_codes, forder)\n",
    "            sobs_judg['rf'] = rf\n",
    "            sobs_judg['observer'] = 'sophisticated'\n",
    "            sobs_judg['demonstrator'] = 'showing'\n",
    "            sobs_judg['traj'] = show_traj\n",
    "            sobs_judg['belief_traj'] = belief_trajs['sobs_traj']\n",
    "            model_obs_judgments.append(sobs_judg)\n",
    "        print \" %.2fs\" % (time.time() - starttime)\n",
    "\n",
    "    model_obs_judgments = pd.DataFrame(model_obs_judgments)\n",
    "    model_obs_judgments = pd.melt(model_obs_judgments,\n",
    "        id_vars=['demonstrator', 'rf', 'observer', 'traj', 'belief_traj'], \n",
    "        value_name='exp_safe', \n",
    "        var_name='color')\n",
    "\n",
    "    model_obs_judgments['confidence'] = model_obs_judgments['exp_safe'].apply(lambda v: abs(.5-v))\n",
    "    model_obs_judgments['correct'] = model_obs_judgments.apply(is_correct, axis=1)\n",
    "    model_obs_judgments['correct_prob'] = model_obs_judgments.apply(calc_correct_prob, axis=1)\n",
    "    model_obs_judgments.to_pickle('./cached_values/human_results.pkl')"
   ]
  },
  {
   "cell_type": "code",
   "execution_count": 10,
   "metadata": {},
   "outputs": [
    {
     "name": "stdout",
     "output_type": "stream",
     "text": [
      "0  0.36s\n",
      "1  0.37s\n",
      "2  0.39s\n",
      "3  0.39s\n",
      "4  0.41s\n",
      "5  0.41s\n",
      "6  0.40s\n",
      "7  0.37s\n"
     ]
    }
   ],
   "source": [
    "get_human_results()"
   ]
  },
  {
   "cell_type": "markdown",
   "metadata": {},
   "source": [
    "# Human Traj Likelihood"
   ]
  },
  {
   "cell_type": "code",
   "execution_count": null,
   "metadata": {},
   "outputs": [],
   "source": [
    "def get_human_trajs_by_person():\n",
    "    trials = pd.read_pickle('./data/teaching-trials.pd.pkl')\n",
    "    trials = trials[trials['phase'] == 'demonstration']\n",
    "    do_trajs, show_trajs = [], []\n",
    "    rf_order = ['ooo', 'xoo', 'oox', 'oxo', 'xox', 'xxo', 'oxx', 'xxx']\n",
    "    cond_order = ['do', 'show']\n",
    "    trajs = defaultdict(lambda: defaultdict(dict))\n",
    "    for (rf, cond, p), ptrials in trials.groupby(['rf', 'cond', 'participant']):\n",
    "        ptrials = ptrials.sort_values('timestep')\n",
    "        traj = list(ptrials['stateaction'])# + [((5, 2), 'x'), ]\n",
    "        trajs[p][cond][rf] = traj\n",
    "    return trajs"
   ]
  },
  {
   "cell_type": "code",
   "execution_count": null,
   "metadata": {},
   "outputs": [],
   "source": [
    "human_trajs = get_human_trajs()"
   ]
  },
  {
   "cell_type": "code",
   "execution_count": null,
   "metadata": {},
   "outputs": [],
   "source": [
    "def get_doshow_probs(wtraj, do_policy, showing_model):\n",
    "    do_action_probs, show_action_probs = [], []\n",
    "    s = showing_model.get_init_state()\n",
    "    for w, a in wtraj:\n",
    "        do_action_probs.append(do_policy[w][a])\n",
    "        show_action_prob = showing_model.get_softmax_actionprobs(\n",
    "            s=s, temp=obmdp_softmax_temp)[a]\n",
    "        show_action_probs.append(show_action_prob)\n",
    "        s = showing_model.transition(s=s, a=a)\n",
    "    do_action_probs, show_action_probs = np.array(do_action_probs), np.array(show_action_probs)\n",
    "    return do_action_probs, show_action_probs\n",
    "    \n",
    "def get_human_traj_likelihood(human_trajs, mixtures=[0, 1], traj_type='show'):\n",
    "    \"\"\"\n",
    "    Calculates log likelihood of showing human trajs under doing and showing model.\n",
    "    \n",
    "    Params:\n",
    "        human_trajs\n",
    "        mixtures: list of the probability that the human is pedagogic in mixture model\n",
    "    \"\"\"\n",
    "    lls = np.zeros(len(mixtures))\n",
    "    total_trajs = 0.0\n",
    "    for rf, doing_model, showing_model in zip(mdp_codes, doing_models, showing_models):\n",
    "        do_policy = doing_model.get_softmax_function(do_softmax)\n",
    "        if traj_type == 'show':\n",
    "            wtrajs = human_trajs[rf][1]\n",
    "        elif traj_type == 'do':\n",
    "            wtrajs = human_trajs[rf][0]\n",
    "        total_trajs += len(wtrajs)\n",
    "        for wtraj in wtrajs:\n",
    "            do_action_probs, show_action_probs = get_doshow_probs(wtraj)\n",
    "            for i, mixture_prob in enumerate(mixtures):\n",
    "                probs = do_action_probs*(1-mixture_prob) + show_action_probs*(mixture_prob)\n",
    "                ll = np.sum(np.log(probs))\n",
    "                lls[i] += ll\n",
    "    lls = lls/total_trajs\n",
    "    return lls\n",
    "\n",
    "def get_do_vs_show(trajs_by_person, cond='show'):\n",
    "    num_do_better_than_show = 0.0\n",
    "    overall_do_ll, overall_show_ll = 0, 0\n",
    "    num_trajs = 0\n",
    "    num_people = 0\n",
    "    for i, person_trajs in enumerate(trajs_by_person.values()):\n",
    "        trajs = person_trajs[cond]\n",
    "        if len(trajs) == 0:\n",
    "            continue\n",
    "        print(i)\n",
    "        num_people += 1\n",
    "        num_trajs += len(trajs)\n",
    "        person_do_ll, person_show_ll = 0, 0\n",
    "        for rf, doing_model, showing_model in zip(mdp_codes, doing_models, showing_models):\n",
    "            do_policy = doing_model.get_softmax_function(do_softmax)\n",
    "            traj = trajs[rf]\n",
    "            do_probs, show_probs = get_doshow_probs(traj, do_policy, showing_model)\n",
    "            do_ll, show_ll = np.sum(np.log(do_probs)), np.sum(np.log(show_probs))\n",
    "            person_do_ll += do_ll\n",
    "            person_show_ll += show_ll\n",
    "        print(person_do_ll/len(trajs), person_show_ll/len(trajs))\n",
    "        overall_do_ll += person_do_ll\n",
    "        overall_show_ll += person_show_ll\n",
    "        num_do_better_than_show += (person_do_ll > person_show_ll)\n",
    "    print(overall_do_ll, overall_show_ll)\n",
    "    return num_do_better_than_show/num_people\n",
    "\n",
    "def get_mixture_by_person(mixtures, trajs_by_person, cond='show'):\n",
    "    num_do_better_than_show = 0.0\n",
    "    alphas = []\n",
    "    for i, person_trajs in enumerate(trajs_by_person.values()):\n",
    "        trajs = person_trajs[cond]\n",
    "        if len(trajs) == 0:\n",
    "            continue\n",
    "        print(i)\n",
    "        all_do_probs, all_show_probs = [], []\n",
    "        for rf, doing_model, showing_model in zip(mdp_codes, doing_models, showing_models):\n",
    "            do_policy = doing_model.get_softmax_function(do_softmax)\n",
    "            traj = trajs[rf]\n",
    "            do_probs, show_probs = get_doshow_probs(traj, do_policy, showing_model)\n",
    "            all_do_probs.append(do_probs)\n",
    "            all_show_probs.append(show_probs)\n",
    "        all_do_probs, all_show_probs = np.array(all_do_probs), np.array(all_show_probs)\n",
    "        mixture_ll = np.zeros(len(mixtures))\n",
    "        for i, mixture_prob in enumerate(mixtures):\n",
    "            ll = 0\n",
    "            for do_probs, show_probs in zip(all_do_probs, all_show_probs):\n",
    "                probs = (1-mixture_prob)*do_probs + mixture_prob*show_probs\n",
    "                ll += np.sum(np.log(probs))\n",
    "            mixture_ll[i] = ll\n",
    "        optimal_alpha = mixtures[np.argmax(mixture_ll)]\n",
    "        alphas.append(optimal_alpha)\n",
    "    return alphas\n",
    "\n",
    "def plot_alphas(alphas):\n",
    "    alphas = np.array(alphas)\n",
    "    print(len(alphas))\n",
    "    print(alphas)\n",
    "    print(np.where(alphas > 0.5))\n",
    "    print(len(np.where(alphas > 0.5)[0]))\n",
    "    fig = plt.figure(figsize=(10, 10))\n",
    "    sns.distplot(alphas, kde=False, bins=5, rug=True)\n",
    "    plt.title('Individual Estimates of ' + r'$\\alpha$')\n",
    "    plt.ylabel('Num Individuals')\n",
    "    plt.xlabel('Estimated Probability of Pedagogic Action (' + r'$\\alpha$' + ')')\n",
    "    plt.yticks([0, 4, 8])\n",
    "    fig.savefig('/Users/smitha/proj/ml/human_misspec/figs/pedagogy/ind_alphas.pdf')"
   ]
  },
  {
   "cell_type": "code",
   "execution_count": null,
   "metadata": {},
   "outputs": [],
   "source": [
    "human_trajs_by_person = get_human_trajs_by_person()"
   ]
  },
  {
   "cell_type": "code",
   "execution_count": null,
   "metadata": {
    "scrolled": true
   },
   "outputs": [],
   "source": [
    "alphas = get_mixture_by_person(np.linspace(0, 1, 101), human_trajs_by_person)"
   ]
  },
  {
   "cell_type": "code",
   "execution_count": null,
   "metadata": {},
   "outputs": [],
   "source": [
    "plot_alphas(alphas)"
   ]
  },
  {
   "cell_type": "code",
   "execution_count": null,
   "metadata": {
    "scrolled": true
   },
   "outputs": [],
   "source": [
    "get_do_vs_show(human_trajs_by_person, 'show')"
   ]
  },
  {
   "cell_type": "code",
   "execution_count": null,
   "metadata": {},
   "outputs": [],
   "source": [
    "mixtures = np.linspace(0, 1, 101)\n",
    "do_lls = get_human_traj_likelihood(human_trajs, mixtures, traj_type='do')"
   ]
  },
  {
   "cell_type": "code",
   "execution_count": null,
   "metadata": {},
   "outputs": [],
   "source": [
    "mixtures = np.linspace(0, 1, 101)\n",
    "lls = get_human_traj_likelihood(human_trajs, mixtures)"
   ]
  },
  {
   "cell_type": "code",
   "execution_count": null,
   "metadata": {},
   "outputs": [],
   "source": [
    "print(lls)"
   ]
  },
  {
   "cell_type": "code",
   "execution_count": null,
   "metadata": {},
   "outputs": [],
   "source": [
    "import matplotlib.pyplot as plt\n",
    "import seaborn as sns\n",
    "sns.set_style('white')\n",
    "sns.set_context(\"paper\", font_scale=2.5, rc={\"lines.linewidth\": 3.0})\n",
    "sns.set_style({'lines.linewidth': 12, 'lines.markersize': 10, \n",
    "               'lines.markeredgewidth': 2, 'errorbar.capsize': 2,\n",
    "               'axes.titlesize': 24\n",
    "})\n",
    "from matplotlib import rc\n",
    "rc(\"font\", **{\"family\": \"serif\", \"serif\": [\"Palatino\"]})\n",
    "rc(\"text\", usetex = True)\n",
    "rc(\"axes\", **{\"titlesize\": 36, \"labelsize\": 30})"
   ]
  },
  {
   "cell_type": "code",
   "execution_count": null,
   "metadata": {},
   "outputs": [],
   "source": [
    "def plot_lls(mixtures, lls, title, filename=None):\n",
    "    fig = plt.figure()\n",
    "    fig.set_size_inches((10, 10))\n",
    "    plt.plot(mixtures, lls, marker='o', markerfacecolor='white')\n",
    "    plt.xlabel('Probability of Pedagogic Action (' + r'$\\alpha$' + ')')\n",
    "    plt.ylabel('Mean Negative Log-Likelihood')\n",
    "    plt.title(title)\n",
    "    if filename is not None:\n",
    "        fig.savefig('/Users/smitha/proj/ml/human_misspec/figs/pedagogy/{0}.pdf'.format(filename))"
   ]
  },
  {
   "cell_type": "code",
   "execution_count": null,
   "metadata": {},
   "outputs": [],
   "source": [
    "print(do_lls)"
   ]
  },
  {
   "cell_type": "code",
   "execution_count": null,
   "metadata": {},
   "outputs": [],
   "source": [
    "print(mixtures)"
   ]
  },
  {
   "cell_type": "code",
   "execution_count": null,
   "metadata": {},
   "outputs": [],
   "source": [
    "print(mixtures[np.argmax(lls)])"
   ]
  },
  {
   "cell_type": "code",
   "execution_count": null,
   "metadata": {},
   "outputs": [],
   "source": [
    "print(mixtures[np.argmax(do_lls)])"
   ]
  },
  {
   "cell_type": "code",
   "execution_count": null,
   "metadata": {},
   "outputs": [],
   "source": [
    "plot_lls(mixtures, -do_lls, title='Demonstrations from Literal Condition', filename='do_mixture_lls')"
   ]
  },
  {
   "cell_type": "code",
   "execution_count": null,
   "metadata": {},
   "outputs": [],
   "source": [
    "plot_lls(mixtures, -lls, title='Action Mixture Model', filename='ped_mix_lls')"
   ]
  },
  {
   "cell_type": "code",
   "execution_count": null,
   "metadata": {},
   "outputs": [],
   "source": []
  }
 ],
 "metadata": {
  "kernelspec": {
   "display_name": "Python 2",
   "language": "python",
   "name": "python2"
  },
  "language_info": {
   "codemirror_mode": {
    "name": "ipython",
    "version": 2
   },
   "file_extension": ".py",
   "mimetype": "text/x-python",
   "name": "python",
   "nbconvert_exporter": "python",
   "pygments_lexer": "ipython2",
   "version": "2.7.15"
  }
 },
 "nbformat": 4,
 "nbformat_minor": 2
}
